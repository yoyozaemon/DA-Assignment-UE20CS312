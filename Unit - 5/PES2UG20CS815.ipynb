{
  "nbformat": 4,
  "nbformat_minor": 0,
  "metadata": {
    "colab": {
      "provenance": [],
      "toc_visible": true
    },
    "kernelspec": {
      "name": "python3",
      "display_name": "Python 3"
    },
    "language_info": {
      "name": "python"
    }
  },
  "cells": [
    {
      "cell_type": "markdown",
      "source": [
        "**UE20CS312 - Data Analytics - Worksheet 5 - Markov Chains abd AB Testing**"
      ],
      "metadata": {
        "id": "bnK1ulTuIWwp"
      }
    },
    {
      "cell_type": "markdown",
      "source": [
        "*Vijay J, Dept. of CSE - PES2UG20CS815*"
      ],
      "metadata": {
        "id": "SBFKgamdJIfN"
      }
    },
    {
      "cell_type": "markdown",
      "source": [
        "#PROBLEMS"
      ],
      "metadata": {
        "id": "iRqyxJ7RJlf1"
      }
    },
    {
      "cell_type": "markdown",
      "source": [
        "##Problem 1 \n",
        "\n"
      ],
      "metadata": {
        "id": "30ZjPqgDJrsz"
      }
    },
    {
      "cell_type": "markdown",
      "source": [
        "###Solutions"
      ],
      "metadata": {
        "id": "0jDPVJ5p-hJU"
      }
    },
    {
      "cell_type": "markdown",
      "source": [
        "1) Pij to the nth power or obtain the general formula from the transition matrix's eigenvalues. "
      ],
      "metadata": {
        "id": "O9m8OY-ClNkV"
      }
    },
    {
      "cell_type": "code",
      "source": [
        "import numpy as np\n",
        "import pandas as pd"
      ],
      "metadata": {
        "id": "6NhV5BEfLA1e"
      },
      "execution_count": 43,
      "outputs": []
    },
    {
      "cell_type": "code",
      "source": [
        "\n",
        "trans_array = np.array([\n",
        "    [0.002, 0.666, 0.31, 0, 0.022],\n",
        "    [0.466, 0.102, 0.222, 0, 0.21],\n",
        "    [0.022, 0.11, 0.502, 0, 0.366],\n",
        "    [0, 0, 0, 1, 0],\n",
        "    [0.11, 0.122, 0.066, 0, 0.702]\n",
        "])\n",
        "\n",
        "assert(trans_array[0].sum() == 1.0)\n",
        "assert(trans_array[1].sum() == 1.0)\n",
        "assert(trans_array[2].sum() == 1.0)\n",
        "assert(trans_array[3].sum() == 1.0)\n",
        "assert(trans_array[4].sum() == 1.0)\n"
      ],
      "metadata": {
        "id": "fTgx79R9ldRw"
      },
      "execution_count": 44,
      "outputs": []
    },
    {
      "cell_type": "code",
      "source": [
        "# encoding the initial probability of as a numpy array\n",
        "res = np.array([[0.3, 0.4, 0.1, 0.15, 0.05]])\n",
        "assert(res[0].sum() == 1.0)"
      ],
      "metadata": {
        "id": "xBFj6C1FpUT9"
      },
      "execution_count": 45,
      "outputs": []
    },
    {
      "cell_type": "code",
      "source": [
        "mat_D=np.array([0.3,0.4,0.1,0.15,0.05])\n",
        "mat_E=np.array([\n",
        "    [0.002, 0.666, 0.31, 0, 0.022],\n",
        "    [0.466, 0.102, 0.222, 0, 0.21],\n",
        "    [0.022, 0.11, 0.502, 0, 0.366],\n",
        "    [0, 0, 0, 1, 0],\n",
        "    [0.11, 0.122, 0.066, 0, 0.702]\n",
        "])"
      ],
      "metadata": {
        "id": "fTAy7dzllg9j"
      },
      "execution_count": 46,
      "outputs": []
    },
    {
      "cell_type": "code",
      "source": [
        "mat_F=np.dot(mat_D,mat_E)\n",
        "mat_F"
      ],
      "metadata": {
        "colab": {
          "base_uri": "https://localhost:8080/"
        },
        "id": "62yxu9vulkE2",
        "outputId": "d660cc71-91d6-4c8a-b6f9-d9e2c09bdc79"
      },
      "execution_count": 47,
      "outputs": [
        {
          "output_type": "execute_result",
          "data": {
            "text/plain": [
              "array([0.1947, 0.2577, 0.2353, 0.15  , 0.1623])"
            ]
          },
          "metadata": {},
          "execution_count": 47
        }
      ]
    },
    {
      "cell_type": "markdown",
      "source": [
        "2) Because state 4 is a trap state and we cannot travel from it to any other state, the Markov chain is reducible. If all of the states in I interact, the chain is irreducible."
      ],
      "metadata": {
        "id": "dvCs3FIAl0rK"
      }
    },
    {
      "cell_type": "markdown",
      "source": [
        "3) What will be the initial probability of a person going to a particular unit after 1 day, 2 days, 10 days, 1000 days, and 1001 days."
      ],
      "metadata": {
        "id": "vVJpafASmClv"
      }
    },
    {
      "cell_type": "code",
      "source": [
        "\n",
        "mat_F=np.dot(mat_D,mat_E)\n",
        "mat_F"
      ],
      "metadata": {
        "colab": {
          "base_uri": "https://localhost:8080/"
        },
        "id": "ZGG25yp7makf",
        "outputId": "1cd4d5ea-cf7d-4a23-c76f-5d3d18104d72"
      },
      "execution_count": 48,
      "outputs": [
        {
          "output_type": "execute_result",
          "data": {
            "text/plain": [
              "array([0.1947, 0.2577, 0.2353, 0.15  , 0.1623])"
            ]
          },
          "metadata": {},
          "execution_count": 48
        }
      ]
    },
    {
      "cell_type": "code",
      "source": [
        "\n",
        "mat_F=mat_D\n",
        "for i in range(2):\n",
        "  mat_F=np.dot(mat_F,mat_E)\n",
        "mat_F"
      ],
      "metadata": {
        "colab": {
          "base_uri": "https://localhost:8080/"
        },
        "id": "UClq8T3YmcNC",
        "outputId": "f1207f9f-180d-477f-f495-2a6155b83df0"
      },
      "execution_count": 49,
      "outputs": [
        {
          "output_type": "execute_result",
          "data": {
            "text/plain": [
              "array([0.1435072, 0.2016392, 0.2463988, 0.15     , 0.2584548])"
            ]
          },
          "metadata": {},
          "execution_count": 49
        }
      ]
    },
    {
      "cell_type": "code",
      "source": [
        "mat_F=mat_D\n",
        "for i in range(1000):\n",
        "  mat_F=np.dot(mat_F,mat_E)\n",
        "mat_F"
      ],
      "metadata": {
        "colab": {
          "base_uri": "https://localhost:8080/"
        },
        "id": "iD6Ptg9umgOD",
        "outputId": "0efff1a3-c137-4a14-c371-5a63258ad384"
      },
      "execution_count": 50,
      "outputs": [
        {
          "output_type": "execute_result",
          "data": {
            "text/plain": [
              "array([0.1214373 , 0.16411091, 0.19739717, 0.15      , 0.36705462])"
            ]
          },
          "metadata": {},
          "execution_count": 50
        }
      ]
    },
    {
      "cell_type": "code",
      "source": [
        "mat_F=mat_D\n",
        "for i in range(1001):\n",
        "  mat_F=np.dot(mat_F,mat_E)\n",
        "mat_F"
      ],
      "metadata": {
        "colab": {
          "base_uri": "https://localhost:8080/"
        },
        "id": "lxcSpo5HmigF",
        "outputId": "cfedeadb-63cb-47eb-9c86-cf737c30f151"
      },
      "execution_count": 51,
      "outputs": [
        {
          "output_type": "execute_result",
          "data": {
            "text/plain": [
              "array([0.1214373 , 0.16411091, 0.19739717, 0.15      , 0.36705462])"
            ]
          },
          "metadata": {},
          "execution_count": 51
        }
      ]
    },
    {
      "cell_type": "markdown",
      "source": [
        "4) 4) We observe that the probabilities of a person going to a unit after 1000 days are equal to those after 1001 days, i.e., it has reached steady state distribution."
      ],
      "metadata": {
        "id": "sSE53uOrmmKq"
      }
    },
    {
      "cell_type": "markdown",
      "source": [
        "##Problem 2 (3 points)"
      ],
      "metadata": {
        "id": "Iri1LNiqKIdZ"
      }
    },
    {
      "cell_type": "markdown",
      "source": [
        "###Solutions"
      ],
      "metadata": {
        "id": "lpV3zGkc-Z9C"
      }
    },
    {
      "cell_type": "markdown",
      "source": [
        "1) The chain is reducible because the 3rd and 4th states cannot be reached from other states directly or indirectly."
      ],
      "metadata": {
        "id": "vjdCPrFRmxHM"
      }
    },
    {
      "cell_type": "code",
      "source": [
        "trans_array = np.array([\n",
        "    [0.002, 0.666, 0.01, 0.020, 0.302],\n",
        "    [0.466, 0.102, 0.02, 0.032, 0.38],\n",
        "    [0.0, 0.0, 1, 0.0, 0.0],\n",
        "    [0, 0, 0, 1, 0],\n",
        "    [0.11, 0.122, 0.066, 0.004, 0.698]\n",
        "])\n",
        "\n",
        "assert(trans_array[0].sum() == 1.0)\n",
        "assert(trans_array[1].sum() == 1.0)\n",
        "assert(trans_array[2].sum() == 1.0)\n",
        "assert(trans_array[3].sum() == 1.0)\n",
        "assert(trans_array[4].sum() == 1.0)\n",
        "\n",
        "\n",
        "result= np.array([[0.3, 0.4, 0.1, 0.15, 0.05]])\n",
        "assert(result[0].sum() == 1.0)"
      ],
      "metadata": {
        "id": "rOWX1izQOqcZ"
      },
      "execution_count": 52,
      "outputs": []
    },
    {
      "cell_type": "code",
      "source": [
        "#2)\n",
        "mat_D = np.array([[0.3, 0.4, 0.1, 0.15, 0.05]])\n",
        "\n",
        "mat_E=np.array([\n",
        "    [0.002, 0.666, 0.01, 0.020, 0.302],\n",
        "    [0.466, 0.102, 0.02, 0.032, 0.38],\n",
        "    [0.0, 0.0, 1, 0.0, 0.0],\n",
        "    [0, 0, 0, 1, 0],\n",
        "    [0.11, 0.122, 0.066, 0.004, 0.698]\n",
        "])"
      ],
      "metadata": {
        "id": "asfrRyqdnD9i"
      },
      "execution_count": 53,
      "outputs": []
    },
    {
      "cell_type": "code",
      "source": [
        "mat_F=np.dot(mat_D,mat_E)\n",
        "mat_F"
      ],
      "metadata": {
        "colab": {
          "base_uri": "https://localhost:8080/"
        },
        "id": "KisJe0OmnGit",
        "outputId": "d20d8c38-eb92-4e6f-b1ca-2d440bb801b4"
      },
      "execution_count": 54,
      "outputs": [
        {
          "output_type": "execute_result",
          "data": {
            "text/plain": [
              "array([[0.1925, 0.2467, 0.1143, 0.169 , 0.2775]])"
            ]
          },
          "metadata": {},
          "execution_count": 54
        }
      ]
    },
    {
      "cell_type": "code",
      "source": [
        "mat_F=mat_D\n",
        "for i in range(2):\n",
        "  mat_F=np.dot(mat_F,mat_E)\n",
        "mat_F"
      ],
      "metadata": {
        "colab": {
          "base_uri": "https://localhost:8080/"
        },
        "id": "Fe3JXev0nJNM",
        "outputId": "c075c57c-e479-4272-c4fe-a7b834875015"
      },
      "execution_count": 55,
      "outputs": [
        {
          "output_type": "execute_result",
          "data": {
            "text/plain": [
              "array([[0.1458722, 0.1872234, 0.139474 , 0.1818544, 0.345576 ]])"
            ]
          },
          "metadata": {},
          "execution_count": 55
        }
      ]
    },
    {
      "cell_type": "code",
      "source": [
        "mat_F=mat_D\n",
        "for i in range(1000):\n",
        "  mat_F=np.dot(mat_F,mat_E)\n",
        "mat_F"
      ],
      "metadata": {
        "colab": {
          "base_uri": "https://localhost:8080/"
        },
        "id": "-3Fu8OxMnLlV",
        "outputId": "ded2370a-a9f7-4602-ad9f-0e9decbfe23d"
      },
      "execution_count": 56,
      "outputs": [
        {
          "output_type": "execute_result",
          "data": {
            "text/plain": [
              "array([[8.97378472e-28, 1.13004326e-27, 6.60595331e-01, 3.39404669e-01,\n",
              "        2.87688168e-27]])"
            ]
          },
          "metadata": {},
          "execution_count": 56
        }
      ]
    },
    {
      "cell_type": "code",
      "source": [
        "\n",
        "mat_F=mat_D\n",
        "for i in range(1001):\n",
        "  mat_F=np.dot(mat_F,mat_E)\n",
        "mat_F"
      ],
      "metadata": {
        "colab": {
          "base_uri": "https://localhost:8080/"
        },
        "id": "Fs-0DeQ4nOn8",
        "outputId": "ea18eda4-40ca-4376-b7b3-71fc8e18ccba"
      },
      "execution_count": 57,
      "outputs": [
        {
          "output_type": "execute_result",
          "data": {
            "text/plain": [
              "array([[8.44851901e-28, 1.06389804e-27, 6.60595331e-01, 3.39404669e-01,\n",
              "        2.70848815e-27]])"
            ]
          },
          "metadata": {},
          "execution_count": 57
        }
      ]
    },
    {
      "cell_type": "code",
      "source": [
        "#4)\n",
        "a=np.array([[ 0 , 1 , 2 , 3]\n",
        "  ,[ 4 , 5 , 6 , 7]\n",
        " ,  [ 8,  9, 10, 11]]\n",
        ")"
      ],
      "metadata": {
        "id": "TO0eblT97FrJ"
      },
      "execution_count": 58,
      "outputs": []
    },
    {
      "cell_type": "code",
      "source": [
        "mat_D = np.array([[0.3, 0.4, 0.1, 0.15, 0.05]])\n",
        "\n",
        "mat_E=np.array([\n",
        "    [0.002, 0.666, 0.01, 0.020, 0.302],\n",
        "    [0.466, 0.102, 0.02, 0.032, 0.38],\n",
        "    [0.0, 0.0, 1, 0.0, 0.0],\n",
        "    [0, 0, 0, 1, 0],\n",
        "    [0.11, 0.122, 0.066, 0.004, 0.698]\n",
        "])\n",
        "\n",
        "mat_F = mat_D @ mat_E \n",
        "mat_F\n"
      ],
      "metadata": {
        "colab": {
          "base_uri": "https://localhost:8080/"
        },
        "id": "5giIiNoEnkg8",
        "outputId": "cb0c451b-92a4-470e-d5c3-65f1fb0fbe34"
      },
      "execution_count": 59,
      "outputs": [
        {
          "output_type": "execute_result",
          "data": {
            "text/plain": [
              "array([[0.1925, 0.2467, 0.1143, 0.169 , 0.2775]])"
            ]
          },
          "metadata": {},
          "execution_count": 59
        }
      ]
    },
    {
      "cell_type": "markdown",
      "source": [
        "##Problem 3 (3 points)"
      ],
      "metadata": {
        "id": "EXm6_Y20KnuR"
      }
    },
    {
      "cell_type": "markdown",
      "source": [
        "###Solutions###"
      ],
      "metadata": {
        "id": "lyoKozHk-NHp"
      }
    },
    {
      "cell_type": "code",
      "source": [
        "#With Santiago\n",
        "p_amy = np.array([\n",
        "    [0.002, 0.232, 0.31, 0.434, 0.022],\n",
        "    [0.426, 0.102, 0.222, 0.04, 0.21],\n",
        "    [0.03, 0.11, 0.20, 0.294, 0.366],\n",
        "    [0.003, 0.176, 0.321, 0.3, 0.2],\n",
        "    [0.11, 0.422, 0.166, 0.1, 0.202]\n",
        "])\n",
        "\n",
        "# Without Santiago\n",
        "p_without_amy = np.array([\n",
        "    [0.11, 0.222, 0.092, 0.374, 0.202],\n",
        "    [0.03, 0.11, 0.20, 0.294, 0.366],\n",
        "    [0.002, 0.232, 0.31, 0.434, 0.022],\n",
        "    [0.466, 0.102, 0.02, 0.032, 0.38],\n",
        "    [0.003, 0.176, 0.321, 0.3, 0.2]\n",
        "])\n",
        "\n",
        "\n",
        "# encoding the initial probability of as a numpy array\n",
        "p_b = np.array([[0.3, 0.4, 0.1, 0.15, 0.05]])\n",
        "\n"
      ],
      "metadata": {
        "id": "azAyqerbQguU"
      },
      "execution_count": 60,
      "outputs": []
    },
    {
      "cell_type": "code",
      "source": [
        "p_c=p_b@p_amy\n",
        "p_c"
      ],
      "metadata": {
        "colab": {
          "base_uri": "https://localhost:8080/"
        },
        "id": "ipLgyWIfnwom",
        "outputId": "3639fc3d-1467-481d-c69e-9de7a67f2601"
      },
      "execution_count": 61,
      "outputs": [
        {
          "output_type": "execute_result",
          "data": {
            "text/plain": [
              "array([[0.17995, 0.1689 , 0.25825, 0.2256 , 0.1673 ]])"
            ]
          },
          "metadata": {},
          "execution_count": 61
        }
      ]
    },
    {
      "cell_type": "code",
      "source": [
        "p_c=p_b@p_without_amy\n",
        "p_c"
      ],
      "metadata": {
        "id": "2wzEfh9CKr0Y",
        "colab": {
          "base_uri": "https://localhost:8080/"
        },
        "outputId": "caee4377-2fac-4305-810b-47b5bc843e97"
      },
      "execution_count": 62,
      "outputs": [
        {
          "output_type": "execute_result",
          "data": {
            "text/plain": [
              "array([[0.11525, 0.1579 , 0.15765, 0.293  , 0.2762 ]])"
            ]
          },
          "metadata": {},
          "execution_count": 62
        }
      ]
    }
  ]
}