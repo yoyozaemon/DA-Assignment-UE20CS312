{
  "nbformat": 4,
  "nbformat_minor": 0,
  "metadata": {
    "colab": {
      "provenance": [],
      "collapsed_sections": [],
      "toc_visible": true
    },
    "kernelspec": {
      "name": "python3",
      "display_name": "Python 3"
    },
    "language_info": {
      "name": "python"
    }
  },
  "cells": [
    {
      "cell_type": "markdown",
      "source": [
        "**UE20CS312 - Data Analytics - Worksheet 4a - Collaborative & Content Based Filtering**\n"
      ],
      "metadata": {
        "id": "gs7wdYEPoPtr"
      }
    },
    {
      "cell_type": "markdown",
      "source": [
        "*Vijay J, Dept. of CSE - PES2UG20CS815*"
      ],
      "metadata": {
        "id": "kfRXEUqQpoNP"
      }
    },
    {
      "cell_type": "markdown",
      "source": [
        "#Loading DataSet and Adding Library"
      ],
      "metadata": {
        "id": "MDEw74xCpt6N"
      }
    },
    {
      "cell_type": "code",
      "source": [
        "# Import pandas\n",
        "import pandas as pd\n",
        "# Use pandas read_csv function to load csv as DataFrame\n",
        "df = pd.read_csv('./twitter_HOTD_DA_WORKSHEET4A.csv')\n",
        "df"
      ],
      "metadata": {
        "id": "0Rx4031dpSRn",
        "colab": {
          "base_uri": "https://localhost:8080/",
          "height": 991
        },
        "outputId": "e85d39cd-8a9e-40c3-9a0f-6d41b607ba9e"
      },
      "execution_count": null,
      "outputs": [
        {
          "output_type": "execute_result",
          "data": {
            "text/plain": [
              "                author_id             tweet_id  \\\n",
              "0     1576486223442583554  1577813753902555136   \n",
              "1      732912167846973441  1577813747846254592   \n",
              "2      891426095928672257  1577813743794257920   \n",
              "3               352012951  1577813724366249986   \n",
              "4     1090278774925611008  1577813708818059264   \n",
              "...                   ...                  ...   \n",
              "8056           2916627870  1570663468055040000   \n",
              "8057           2916627870  1570663455606312961   \n",
              "8058           2916627870  1570663389684453378   \n",
              "8059            212524158  1570663558563921922   \n",
              "8060  1497796183279996929  1570663337658298371   \n",
              "\n",
              "                                                   text  retweet_count  \\\n",
              "0     rt i would perform my duty if mother had only ...            327   \n",
              "1      rt viserys look at me!! aemond #houseofthedragon           2164   \n",
              "2     rt house of the dragon is a show about a king ...            905   \n",
              "3     man just thinking of when viserys finally croa...              0   \n",
              "4                          rt jajaja. #houseofthedragon             29   \n",
              "...                                                 ...            ...   \n",
              "8056  rt may i go on record that if matt smith looke...            166   \n",
              "8057  rt good morning to matt smith who is now respo...            125   \n",
              "8058  rt the entire world paused during this #houseo...           2485   \n",
              "8059                                    days left #hotd              0   \n",
              "8060  the #houseofthedragon cast is too small. due t...              0   \n",
              "\n",
              "      reply_count  like_count  quote_count  \\\n",
              "0               0           0            0   \n",
              "1               0           0            0   \n",
              "2               0           0            0   \n",
              "3               0           0            0   \n",
              "4               0           0            0   \n",
              "...           ...         ...          ...   \n",
              "8056            0           0            0   \n",
              "8057            0           0            0   \n",
              "8058            0           0            0   \n",
              "8059            0           5            0   \n",
              "8060            1           3            0   \n",
              "\n",
              "                                                 tokens  \\\n",
              "0            ['perform', 'duty', 'mother', 'betrothed']   \n",
              "1                         ['viserys', 'look', 'aemond']   \n",
              "2     ['house', 'dragon', 'king', 'bunch', 'question...   \n",
              "3     ['man', 'thinking', 'viserys', 'finally', 'cro...   \n",
              "4                                            ['jajaja']   \n",
              "...                                                 ...   \n",
              "8056  ['record', 'matt', 'smith', 'looked', 'like', ...   \n",
              "8057  ['good', 'morning', 'matt', 'smith', 'responsi...   \n",
              "8058                      ['entire', 'world', 'paused']   \n",
              "8059                                   ['days', 'left']   \n",
              "8060  ['cast', 'small', 'producers', 'afford', 'kill...   \n",
              "\n",
              "                                               hashtags  \n",
              "0     ['houseofthedragon', 'aemondtargaryen', 'helae...  \n",
              "1                                  ['houseofthedragon']  \n",
              "2                                                    []  \n",
              "3                                  ['houseofthedragon']  \n",
              "4                                  ['houseofthedragon']  \n",
              "...                                                 ...  \n",
              "8056                                                 []  \n",
              "8057                                                 []  \n",
              "8058                               ['houseofthedragon']  \n",
              "8059                                           ['hotd']  \n",
              "8060             ['houseofthedragon', 'gameofthrones.']  \n",
              "\n",
              "[8061 rows x 9 columns]"
            ],
            "text/html": [
              "\n",
              "  <div id=\"df-d3f6f4be-edec-4346-a072-fdd65885016d\">\n",
              "    <div class=\"colab-df-container\">\n",
              "      <div>\n",
              "<style scoped>\n",
              "    .dataframe tbody tr th:only-of-type {\n",
              "        vertical-align: middle;\n",
              "    }\n",
              "\n",
              "    .dataframe tbody tr th {\n",
              "        vertical-align: top;\n",
              "    }\n",
              "\n",
              "    .dataframe thead th {\n",
              "        text-align: right;\n",
              "    }\n",
              "</style>\n",
              "<table border=\"1\" class=\"dataframe\">\n",
              "  <thead>\n",
              "    <tr style=\"text-align: right;\">\n",
              "      <th></th>\n",
              "      <th>author_id</th>\n",
              "      <th>tweet_id</th>\n",
              "      <th>text</th>\n",
              "      <th>retweet_count</th>\n",
              "      <th>reply_count</th>\n",
              "      <th>like_count</th>\n",
              "      <th>quote_count</th>\n",
              "      <th>tokens</th>\n",
              "      <th>hashtags</th>\n",
              "    </tr>\n",
              "  </thead>\n",
              "  <tbody>\n",
              "    <tr>\n",
              "      <th>0</th>\n",
              "      <td>1576486223442583554</td>\n",
              "      <td>1577813753902555136</td>\n",
              "      <td>rt i would perform my duty if mother had only ...</td>\n",
              "      <td>327</td>\n",
              "      <td>0</td>\n",
              "      <td>0</td>\n",
              "      <td>0</td>\n",
              "      <td>['perform', 'duty', 'mother', 'betrothed']</td>\n",
              "      <td>['houseofthedragon', 'aemondtargaryen', 'helae...</td>\n",
              "    </tr>\n",
              "    <tr>\n",
              "      <th>1</th>\n",
              "      <td>732912167846973441</td>\n",
              "      <td>1577813747846254592</td>\n",
              "      <td>rt viserys look at me!! aemond #houseofthedragon</td>\n",
              "      <td>2164</td>\n",
              "      <td>0</td>\n",
              "      <td>0</td>\n",
              "      <td>0</td>\n",
              "      <td>['viserys', 'look', 'aemond']</td>\n",
              "      <td>['houseofthedragon']</td>\n",
              "    </tr>\n",
              "    <tr>\n",
              "      <th>2</th>\n",
              "      <td>891426095928672257</td>\n",
              "      <td>1577813743794257920</td>\n",
              "      <td>rt house of the dragon is a show about a king ...</td>\n",
              "      <td>905</td>\n",
              "      <td>0</td>\n",
              "      <td>0</td>\n",
              "      <td>0</td>\n",
              "      <td>['house', 'dragon', 'king', 'bunch', 'question...</td>\n",
              "      <td>[]</td>\n",
              "    </tr>\n",
              "    <tr>\n",
              "      <th>3</th>\n",
              "      <td>352012951</td>\n",
              "      <td>1577813724366249986</td>\n",
              "      <td>man just thinking of when viserys finally croa...</td>\n",
              "      <td>0</td>\n",
              "      <td>0</td>\n",
              "      <td>0</td>\n",
              "      <td>0</td>\n",
              "      <td>['man', 'thinking', 'viserys', 'finally', 'cro...</td>\n",
              "      <td>['houseofthedragon']</td>\n",
              "    </tr>\n",
              "    <tr>\n",
              "      <th>4</th>\n",
              "      <td>1090278774925611008</td>\n",
              "      <td>1577813708818059264</td>\n",
              "      <td>rt jajaja. #houseofthedragon</td>\n",
              "      <td>29</td>\n",
              "      <td>0</td>\n",
              "      <td>0</td>\n",
              "      <td>0</td>\n",
              "      <td>['jajaja']</td>\n",
              "      <td>['houseofthedragon']</td>\n",
              "    </tr>\n",
              "    <tr>\n",
              "      <th>...</th>\n",
              "      <td>...</td>\n",
              "      <td>...</td>\n",
              "      <td>...</td>\n",
              "      <td>...</td>\n",
              "      <td>...</td>\n",
              "      <td>...</td>\n",
              "      <td>...</td>\n",
              "      <td>...</td>\n",
              "      <td>...</td>\n",
              "    </tr>\n",
              "    <tr>\n",
              "      <th>8056</th>\n",
              "      <td>2916627870</td>\n",
              "      <td>1570663468055040000</td>\n",
              "      <td>rt may i go on record that if matt smith looke...</td>\n",
              "      <td>166</td>\n",
              "      <td>0</td>\n",
              "      <td>0</td>\n",
              "      <td>0</td>\n",
              "      <td>['record', 'matt', 'smith', 'looked', 'like', ...</td>\n",
              "      <td>[]</td>\n",
              "    </tr>\n",
              "    <tr>\n",
              "      <th>8057</th>\n",
              "      <td>2916627870</td>\n",
              "      <td>1570663455606312961</td>\n",
              "      <td>rt good morning to matt smith who is now respo...</td>\n",
              "      <td>125</td>\n",
              "      <td>0</td>\n",
              "      <td>0</td>\n",
              "      <td>0</td>\n",
              "      <td>['good', 'morning', 'matt', 'smith', 'responsi...</td>\n",
              "      <td>[]</td>\n",
              "    </tr>\n",
              "    <tr>\n",
              "      <th>8058</th>\n",
              "      <td>2916627870</td>\n",
              "      <td>1570663389684453378</td>\n",
              "      <td>rt the entire world paused during this #houseo...</td>\n",
              "      <td>2485</td>\n",
              "      <td>0</td>\n",
              "      <td>0</td>\n",
              "      <td>0</td>\n",
              "      <td>['entire', 'world', 'paused']</td>\n",
              "      <td>['houseofthedragon']</td>\n",
              "    </tr>\n",
              "    <tr>\n",
              "      <th>8059</th>\n",
              "      <td>212524158</td>\n",
              "      <td>1570663558563921922</td>\n",
              "      <td>days left #hotd</td>\n",
              "      <td>0</td>\n",
              "      <td>0</td>\n",
              "      <td>5</td>\n",
              "      <td>0</td>\n",
              "      <td>['days', 'left']</td>\n",
              "      <td>['hotd']</td>\n",
              "    </tr>\n",
              "    <tr>\n",
              "      <th>8060</th>\n",
              "      <td>1497796183279996929</td>\n",
              "      <td>1570663337658298371</td>\n",
              "      <td>the #houseofthedragon cast is too small. due t...</td>\n",
              "      <td>0</td>\n",
              "      <td>1</td>\n",
              "      <td>3</td>\n",
              "      <td>0</td>\n",
              "      <td>['cast', 'small', 'producers', 'afford', 'kill...</td>\n",
              "      <td>['houseofthedragon', 'gameofthrones.']</td>\n",
              "    </tr>\n",
              "  </tbody>\n",
              "</table>\n",
              "<p>8061 rows × 9 columns</p>\n",
              "</div>\n",
              "      <button class=\"colab-df-convert\" onclick=\"convertToInteractive('df-d3f6f4be-edec-4346-a072-fdd65885016d')\"\n",
              "              title=\"Convert this dataframe to an interactive table.\"\n",
              "              style=\"display:none;\">\n",
              "        \n",
              "  <svg xmlns=\"http://www.w3.org/2000/svg\" height=\"24px\"viewBox=\"0 0 24 24\"\n",
              "       width=\"24px\">\n",
              "    <path d=\"M0 0h24v24H0V0z\" fill=\"none\"/>\n",
              "    <path d=\"M18.56 5.44l.94 2.06.94-2.06 2.06-.94-2.06-.94-.94-2.06-.94 2.06-2.06.94zm-11 1L8.5 8.5l.94-2.06 2.06-.94-2.06-.94L8.5 2.5l-.94 2.06-2.06.94zm10 10l.94 2.06.94-2.06 2.06-.94-2.06-.94-.94-2.06-.94 2.06-2.06.94z\"/><path d=\"M17.41 7.96l-1.37-1.37c-.4-.4-.92-.59-1.43-.59-.52 0-1.04.2-1.43.59L10.3 9.45l-7.72 7.72c-.78.78-.78 2.05 0 2.83L4 21.41c.39.39.9.59 1.41.59.51 0 1.02-.2 1.41-.59l7.78-7.78 2.81-2.81c.8-.78.8-2.07 0-2.86zM5.41 20L4 18.59l7.72-7.72 1.47 1.35L5.41 20z\"/>\n",
              "  </svg>\n",
              "      </button>\n",
              "      \n",
              "  <style>\n",
              "    .colab-df-container {\n",
              "      display:flex;\n",
              "      flex-wrap:wrap;\n",
              "      gap: 12px;\n",
              "    }\n",
              "\n",
              "    .colab-df-convert {\n",
              "      background-color: #E8F0FE;\n",
              "      border: none;\n",
              "      border-radius: 50%;\n",
              "      cursor: pointer;\n",
              "      display: none;\n",
              "      fill: #1967D2;\n",
              "      height: 32px;\n",
              "      padding: 0 0 0 0;\n",
              "      width: 32px;\n",
              "    }\n",
              "\n",
              "    .colab-df-convert:hover {\n",
              "      background-color: #E2EBFA;\n",
              "      box-shadow: 0px 1px 2px rgba(60, 64, 67, 0.3), 0px 1px 3px 1px rgba(60, 64, 67, 0.15);\n",
              "      fill: #174EA6;\n",
              "    }\n",
              "\n",
              "    [theme=dark] .colab-df-convert {\n",
              "      background-color: #3B4455;\n",
              "      fill: #D2E3FC;\n",
              "    }\n",
              "\n",
              "    [theme=dark] .colab-df-convert:hover {\n",
              "      background-color: #434B5C;\n",
              "      box-shadow: 0px 1px 3px 1px rgba(0, 0, 0, 0.15);\n",
              "      filter: drop-shadow(0px 1px 2px rgba(0, 0, 0, 0.3));\n",
              "      fill: #FFFFFF;\n",
              "    }\n",
              "  </style>\n",
              "\n",
              "      <script>\n",
              "        const buttonEl =\n",
              "          document.querySelector('#df-d3f6f4be-edec-4346-a072-fdd65885016d button.colab-df-convert');\n",
              "        buttonEl.style.display =\n",
              "          google.colab.kernel.accessAllowed ? 'block' : 'none';\n",
              "\n",
              "        async function convertToInteractive(key) {\n",
              "          const element = document.querySelector('#df-d3f6f4be-edec-4346-a072-fdd65885016d');\n",
              "          const dataTable =\n",
              "            await google.colab.kernel.invokeFunction('convertToInteractive',\n",
              "                                                     [key], {});\n",
              "          if (!dataTable) return;\n",
              "\n",
              "          const docLinkHtml = 'Like what you see? Visit the ' +\n",
              "            '<a target=\"_blank\" href=https://colab.research.google.com/notebooks/data_table.ipynb>data table notebook</a>'\n",
              "            + ' to learn more about interactive tables.';\n",
              "          element.innerHTML = '';\n",
              "          dataTable['output_type'] = 'display_data';\n",
              "          await google.colab.output.renderOutput(dataTable, element);\n",
              "          const docLink = document.createElement('div');\n",
              "          docLink.innerHTML = docLinkHtml;\n",
              "          element.appendChild(docLink);\n",
              "        }\n",
              "      </script>\n",
              "    </div>\n",
              "  </div>\n",
              "  "
            ]
          },
          "metadata": {},
          "execution_count": 1
        }
      ]
    },
    {
      "cell_type": "markdown",
      "source": [
        "#PROBLEM \n"
      ],
      "metadata": {
        "id": "UPeHHi7zp9Xa"
      }
    },
    {
      "cell_type": "markdown",
      "source": [
        "##Problem 1 (4 points)"
      ],
      "metadata": {
        "id": "KEXgCJQap_ur"
      }
    },
    {
      "cell_type": "code",
      "source": [
        "# Imports\n",
        "import numpy as np \n",
        "from sklearn.feature_extraction.text import TfidfVectorizer"
      ],
      "metadata": {
        "id": "NtxtF_koqKtO"
      },
      "execution_count": null,
      "outputs": []
    },
    {
      "cell_type": "code",
      "source": [
        "# Convert string representation of a list into a list of strings\n",
        "import ast\n",
        "text = []\n",
        "for r in df['tokens']:\n",
        "    res = ast.literal_eval(r)\n",
        "    if(' '.join(res).lower() == ''):\n",
        "        print(r)\n",
        "    text.append(' '.join(res).lower())\n",
        "# Print the end result\n",
        "text"
      ],
      "metadata": {
        "id": "n3XGn5YAqUlg"
      },
      "execution_count": null,
      "outputs": []
    },
    {
      "cell_type": "code",
      "source": [
        "tfidf = TfidfVectorizer()\n",
        "twitter_text_tf = tfidf.fit_transform(text)\n",
        "twitter_text_tf = tfidf.transform(text)\n",
        "print(\"Samples: %d, Features: %d\" % twitter_text_tf.shape)\n",
        "print(twitter_text_tf[0])"
      ],
      "metadata": {
        "colab": {
          "base_uri": "https://localhost:8080/"
        },
        "id": "vWoFAH2jSCtp",
        "outputId": "812ffb08-445e-448d-a9f4-10029a2f330e"
      },
      "execution_count": null,
      "outputs": [
        {
          "output_type": "stream",
          "name": "stdout",
          "text": [
            "Samples: 8061, Features: 10950\n",
            "  (0, 7080)\t0.5632689245894086\n",
            "  (0, 6277)\t0.3774828944719565\n",
            "  (0, 3021)\t0.47218947633853087\n",
            "  (0, 1054)\t0.5632689245894086\n"
          ]
        }
      ]
    },
    {
      "cell_type": "markdown",
      "source": [
        "##Problem 2 (4 points)"
      ],
      "metadata": {
        "id": "Gpd-iEu_qYxV"
      }
    },
    {
      "cell_type": "code",
      "source": [
        "# Print out the tokens from index `7654`\n",
        "print(text[7558])\n",
        "# Print out the text from index `7654`\n",
        "print(df.iloc[7558][2])"
      ],
      "metadata": {
        "colab": {
          "base_uri": "https://localhost:8080/"
        },
        "id": "Qdlu2KswqkNE",
        "outputId": "ed365844-93a0-418e-ec6f-de06e0a04491"
      },
      "execution_count": null,
      "outputs": [
        {
          "output_type": "stream",
          "name": "stdout",
          "text": [
            "viserys wanna build lego set mind business let man live peace\n",
            "rt viserys just wanna build his lego set and mind his business . let that man live in peace #houseofthedragon\n"
          ]
        }
      ]
    },
    {
      "cell_type": "code",
      "source": [
        "from sklearn.metrics.pairwise import cosine_similarity\n",
        "top_similar_tweets = cosine_similarity(twitter_text_tf[7558], twitter_text_tf)\n",
        "indices = np.argsort(top_similar_tweets)\n",
        "indices = indices[0][-6 : -1]\n",
        "for i in range(0, 5):\n",
        " print(df.iloc[indices[i]][2])"
      ],
      "metadata": {
        "colab": {
          "base_uri": "https://localhost:8080/"
        },
        "id": "TRde0igNVMhu",
        "outputId": "919fbdbd-5707-4339-c7cd-b139261470b7"
      },
      "execution_count": null,
      "outputs": [
        {
          "output_type": "stream",
          "name": "stdout",
          "text": [
            "rt don't play with them. they're here for business only. #houseofthedragon\n",
            "mom said it's my turn on the valyrian lego set ( #houseofthedragon\n",
            "rt daemon and rhaenyra are never letting this man live in peace 😭 #houseofthedragon #houseofthedragonhbo\n",
            "rt my man's literally just trying to build a lego set of valyria but has to deal with all this shit. #hotd #houseofthedra...\n",
            "rt viserys just wanna build his lego set and mind his business . let that man live in peace #houseofthedragon\n"
          ]
        }
      ]
    },
    {
      "cell_type": "markdown",
      "source": [
        "##Problem 3 (2 points)"
      ],
      "metadata": {
        "id": "rVItYqDZq0TP"
      }
    },
    {
      "cell_type": "markdown",
      "source": [
        "**Answer:** \n",
        "\n",
        "1.Implement a Word to Vector model using pre-trained word embeddings \n",
        "\n",
        "  2.Evaluate Word Embeddings to determine their quality."
      ],
      "metadata": {
        "id": "5jSLGkQKj0Vt"
      }
    }
  ]
}