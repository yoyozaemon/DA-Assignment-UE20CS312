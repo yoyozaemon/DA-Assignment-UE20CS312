{
  "cells": [
    {
      "cell_type": "markdown",
      "metadata": {
        "id": "b3DDAktbZgH1"
      },
      "source": [
        "<table align=\"center\" width=100%>\n",
        "    <tr>\n",
        "        <td width=\"40%\">\n",
        "            <img src=\"https://image.pushauction.com/0/0/3f22d1bc-e8c2-4e47-8b47-88d74d8e4f4c/cf170397-633b-4c85-baa8-87dca110cd46.jpg\">\n",
        "        </td>\n",
        "        <td>\n",
        "            <div align=\"center\">\n",
        "                <font color=\"black\";size=500px>\n",
        "                    <b>ANIME RECOMMENDATION SYSTEM\n",
        "                    </b>\n",
        "                </font>\n",
        "            </div>\n",
        "        </td>\n",
        "    </tr>\n",
        "</table>"
      ]
    },
    {
      "cell_type": "markdown",
      "source": [
        "#**Problem Statement**"
      ],
      "metadata": {
        "id": "QDgZWxlXmasF"
      }
    },
    {
      "cell_type": "markdown",
      "metadata": {
        "id": "OaOX829vYQwG"
      },
      "source": [
        "#**Data Dictionary**"
      ]
    },
    {
      "cell_type": "markdown",
      "metadata": {
        "id": "DZ_S9PD3ZQXG"
      },
      "source": [
        "**1) anime_data:**\n",
        "\n",
        "`anime_id` - unique id identifying an anime.\n",
        "\n",
        "`name` - full name of anime.\n",
        "\n",
        "`genre` - comma separated list of genres for this anime.\n",
        "\n",
        "`type` - movie, TV, OVA, etc.\n",
        "\n",
        "`episodes` - how many episodes in this show. (1 if movie).\n",
        "\n",
        "`rating` - average rating out of 10 for this anime.\n",
        "\n",
        "`members` - number of community members that are in this anime's \"group\".\n",
        "\n",
        "**2) rating_data:**\n",
        "\n",
        "`user_id` - non identifiable randomly generated user id.\n",
        "\n",
        "`anime_id` - the anime that this user has rated.\n",
        "\n",
        "`rating` - rating out of 10 this user has assigned (-1 if the user watched it but didn't assign a rating)."
      ]
    },
    {
      "cell_type": "markdown",
      "metadata": {
        "id": "VQA2psFja9_a"
      },
      "source": [
        "#**Import Libraries**"
      ]
    },
    {
      "cell_type": "code",
      "execution_count": 5,
      "metadata": {
        "id": "NUwjcWbeYC4q"
      },
      "outputs": [],
      "source": [
        "# import 'Pandas' \n",
        "import pandas as pd \n",
        "\n",
        "# import 'Numpy' \n",
        "import numpy as np\n",
        "\n",
        "# import subpackage of Matplotlib\n",
        "import matplotlib.pyplot as plt\n",
        "from matplotlib.colors import ListedColormap\n",
        "\n",
        "# import 'Seaborn' \n",
        "import seaborn as sns\n",
        "\n",
        "# to suppress warnings \n",
        "from warnings import filterwarnings\n",
        "filterwarnings('ignore')\n",
        "\n",
        "# display all columns of the dataframe\n",
        "pd.options.display.max_columns = None\n",
        "\n",
        "# display all rows of the dataframe\n",
        "pd.options.display.max_rows = None\n",
        " \n",
        "# to display the float values upto 6 decimal places     \n",
        "pd.options.display.float_format = '{:.6f}'.format\n",
        "\n",
        "from ast import literal_eval\n",
        "from sklearn.feature_extraction.text import TfidfVectorizer\n",
        "from sklearn.metrics.pairwise import cosine_similarity, linear_kernel\n",
        "from surprise import Reader, SVD, Dataset\n",
        "from surprise.model_selection import cross_validate\n",
        "from sklearn.neighbors import NearestNeighbors\n",
        "from sklearn.decomposition import TruncatedSVD\n",
        "from sklearn.decomposition import PCA\n",
        "from sklearn.cluster import KMeans\n",
        "from sklearn.metrics import silhouette_score\n",
        "from kneed import KneeLocator\n",
        "from mlxtend.frequent_patterns import apriori,association_rules\n",
        "import re\n",
        "import string\n",
        "\n",
        "from apyori import apriori"
      ]
    },
    {
      "cell_type": "markdown",
      "metadata": {
        "id": "bdIMCQntdLrt"
      },
      "source": [
        "##*Setting the Option for the Dataset*"
      ]
    },
    {
      "cell_type": "code",
      "execution_count": 6,
      "metadata": {
        "id": "sjfOvIBbdJJk"
      },
      "outputs": [],
      "source": [
        "# display all columns of the dataframe\n",
        "pd.options.display.max_columns = None\n",
        "# display all rows of the dataframe\n",
        "pd.options.display.max_rows = None\n",
        "# return an output value upto 6 decimals\n",
        "pd.options.display.float_format = '{:.6f}'.format"
      ]
    },
    {
      "cell_type": "markdown",
      "metadata": {
        "id": "6tOA6ZQMc2MD"
      },
      "source": [
        "##*Installing Missing Modules*"
      ]
    },
    {
      "cell_type": "code",
      "execution_count": null,
      "metadata": {
        "id": "O38nZRZJb7r-"
      },
      "outputs": [],
      "source": [
        "# installing the kneed module \n",
        "!pip install kneed"
      ]
    },
    {
      "cell_type": "code",
      "execution_count": null,
      "metadata": {
        "id": "sdBkWnQ6cA2R"
      },
      "outputs": [],
      "source": [
        "# installing the apyori module \n",
        "!pip install apyori"
      ]
    },
    {
      "cell_type": "code",
      "execution_count": null,
      "metadata": {
        "id": "dhyP0CmCcVRU"
      },
      "outputs": [],
      "source": [
        "#installing the surprise\n",
        "!pip install scikit-surprise"
      ]
    },
    {
      "cell_type": "markdown",
      "metadata": {
        "id": "7HiKNEzBda5r"
      },
      "source": [
        "#**Reading the Dataset**"
      ]
    },
    {
      "cell_type": "markdown",
      "metadata": {
        "id": "YEuglQbLdmXm"
      },
      "source": [
        "##*Anime DataSet*"
      ]
    },
    {
      "cell_type": "code",
      "execution_count": null,
      "metadata": {
        "id": "zVbmPcGkdg8w"
      },
      "outputs": [],
      "source": [
        "anime=pd.read_csv('./anime.csv')\n",
        "anime.head()"
      ]
    },
    {
      "cell_type": "code",
      "execution_count": null,
      "metadata": {
        "id": "x_xnSpw1egqp"
      },
      "outputs": [],
      "source": [
        "anime.info()"
      ]
    },
    {
      "cell_type": "markdown",
      "metadata": {
        "id": "oxbgsW2_dwNf"
      },
      "source": [
        "##*Rating DataSet*"
      ]
    },
    {
      "cell_type": "code",
      "execution_count": null,
      "metadata": {
        "id": "iirXkw--dxTi"
      },
      "outputs": [],
      "source": [
        "rating=pd.read_csv('./rating.csv',sep=',')\n",
        "rating.head()"
      ]
    },
    {
      "cell_type": "code",
      "execution_count": null,
      "metadata": {
        "id": "9fvaukvfekI8"
      },
      "outputs": [],
      "source": [
        "rating.info()"
      ]
    },
    {
      "cell_type": "markdown",
      "metadata": {
        "id": "p3ZAUzt0fGOg"
      },
      "source": [
        "#**Exploratory Data Analysis(EDA)**\n"
      ]
    },
    {
      "cell_type": "markdown",
      "metadata": {
        "id": "3CrsNNoTfVAt"
      },
      "source": [
        "##***Preparing the Dataset***"
      ]
    },
    {
      "cell_type": "markdown",
      "metadata": {
        "id": "gut68YNVfdwF"
      },
      "source": [
        "###*Data Cleaning*"
      ]
    },
    {
      "cell_type": "code",
      "execution_count": null,
      "metadata": {
        "id": "hcws_9zzfopr"
      },
      "outputs": [],
      "source": [
        "anime['name'].unique()[3:10]"
      ]
    },
    {
      "cell_type": "code",
      "execution_count": 12,
      "metadata": {
        "id": "1TnfepSnfxX7"
      },
      "outputs": [],
      "source": [
        "def text_cleaning(text):\n",
        "    text = re.sub(r'&quot;', '', text)\n",
        "    text  = \"\".join([char for char in text if char not in string.punctuation])\n",
        "    text = re.sub(r'.hack//', '', text)\n",
        "    text = re.sub(r'&#039;', '', text)\n",
        "    text = re.sub(r'A&#039;s', '', text)\n",
        "    text = re.sub(r'I&#039;', 'I\\'', text)\n",
        "    text = re.sub(r'&amp;', 'and', text)\n",
        "    text = re.sub(r'Â°', '',text)\n",
        "    \n",
        "    return text\n",
        "    anime['name'] = anime['name'].apply(text_cleaning)"
      ]
    },
    {
      "cell_type": "code",
      "execution_count": 13,
      "metadata": {
        "id": "ixyVXPCpf2Mh"
      },
      "outputs": [],
      "source": [
        "anime['name'] = anime['name'].apply(text_cleaning)"
      ]
    },
    {
      "cell_type": "code",
      "execution_count": null,
      "metadata": {
        "id": "F5QaE7w4f9t9"
      },
      "outputs": [],
      "source": [
        "anime['name'].unique()[3:10]"
      ]
    },
    {
      "cell_type": "code",
      "execution_count": null,
      "metadata": {
        "id": "7SkNpT8RgL2P"
      },
      "outputs": [],
      "source": [
        "anime.episodes.unique()"
      ]
    },
    {
      "cell_type": "code",
      "execution_count": 16,
      "metadata": {
        "id": "Q45oif7BgdNI"
      },
      "outputs": [],
      "source": [
        "anime.episodes.replace({'Unknown':np.nan},inplace=True)"
      ]
    },
    {
      "cell_type": "markdown",
      "metadata": {
        "id": "YEIOniDkglNP"
      },
      "source": [
        "###*Merging the Anime Dataset and Rating Dataset*"
      ]
    },
    {
      "cell_type": "code",
      "execution_count": null,
      "metadata": {
        "id": "gm6X4vPrgyeJ"
      },
      "outputs": [],
      "source": [
        "anime_rating=pd.merge(anime,rating,on='anime_id')\n",
        "anime_rating.head()"
      ]
    },
    {
      "cell_type": "code",
      "execution_count": null,
      "metadata": {
        "id": "2pv-YuM-hKgE"
      },
      "outputs": [],
      "source": [
        "anime_rating.rename(columns={'rating_x':'avg_rating','rating_y':'user_rating'},inplace=True)\n",
        "anime_rating.head()"
      ]
    },
    {
      "cell_type": "markdown",
      "metadata": {
        "id": "dBrwZPwqhaif"
      },
      "source": [
        "###*Data Info*"
      ]
    },
    {
      "cell_type": "code",
      "execution_count": null,
      "metadata": {
        "id": "UXI7Pm3BhepM"
      },
      "outputs": [],
      "source": [
        "anime_rating.info()"
      ]
    },
    {
      "cell_type": "markdown",
      "metadata": {
        "id": "uMUDRWR4h3cr"
      },
      "source": [
        "###*Data Dimension*"
      ]
    },
    {
      "cell_type": "code",
      "execution_count": null,
      "metadata": {
        "id": "nFGzNei9h-h1"
      },
      "outputs": [],
      "source": [
        "anime.shape"
      ]
    },
    {
      "cell_type": "markdown",
      "source": [
        "In this dataset I have **12294** records across **7** features"
      ],
      "metadata": {
        "id": "CoAW6l_noJlb"
      }
    },
    {
      "cell_type": "code",
      "execution_count": null,
      "metadata": {
        "id": "NuDk5BJsiepj"
      },
      "outputs": [],
      "source": [
        "rating.shape"
      ]
    },
    {
      "cell_type": "markdown",
      "source": [
        "In this dataset I have **7813737** records across **3** features"
      ],
      "metadata": {
        "id": "RxMWR_FIoQWO"
      }
    },
    {
      "cell_type": "code",
      "execution_count": null,
      "metadata": {
        "id": "OJskJ6ejinOt"
      },
      "outputs": [],
      "source": [
        "anime_rating.shape"
      ]
    },
    {
      "cell_type": "markdown",
      "source": [
        "In this dataset I have **7813737** records across **9** features"
      ],
      "metadata": {
        "id": "sblYadVQowus"
      }
    },
    {
      "cell_type": "markdown",
      "metadata": {
        "id": "EDLio0xCj4-O"
      },
      "source": [
        "###*Data Type*"
      ]
    },
    {
      "cell_type": "code",
      "execution_count": null,
      "metadata": {
        "id": "2v3769pMj91F"
      },
      "outputs": [],
      "source": [
        "anime_rating.dtypes"
      ]
    },
    {
      "cell_type": "markdown",
      "source": [
        "There are `4 objects`, `1 float` and `4 int` data types attributes.\n",
        "\n",
        "As anime_id and user_id are unique values I need to convert it into `object` data type."
      ],
      "metadata": {
        "id": "p9Rhec2kpZ-5"
      }
    },
    {
      "cell_type": "code",
      "execution_count": 24,
      "metadata": {
        "id": "URO7scUzkMgO"
      },
      "outputs": [],
      "source": [
        "anime_rating['anime_id']=anime_rating.anime_id.astype('object')\n",
        "anime_rating['user_id']=anime_rating.user_id.astype('object')"
      ]
    },
    {
      "cell_type": "code",
      "execution_count": null,
      "metadata": {
        "id": "HLhUOPuhkRgQ"
      },
      "outputs": [],
      "source": [
        "anime_rating.dtypes"
      ]
    },
    {
      "cell_type": "markdown",
      "source": [
        "Now there are 6 `objects`, 2 `int` and 1 `float` attributes."
      ],
      "metadata": {
        "id": "8sHDB7fDpxX5"
      }
    },
    {
      "cell_type": "markdown",
      "metadata": {
        "id": "u_dM5nVikpBY"
      },
      "source": [
        "###*Missing Values*"
      ]
    },
    {
      "cell_type": "code",
      "execution_count": 26,
      "metadata": {
        "id": "4LxOAYfbkT6w"
      },
      "outputs": [],
      "source": [
        "missing_value = pd.DataFrame({\n",
        "    'Missing Value': anime_rating.isnull().sum(),\n",
        "    'Percentage': (anime_rating.isnull().sum() / len(anime_rating))*100\n",
        "})"
      ]
    },
    {
      "cell_type": "code",
      "execution_count": null,
      "metadata": {
        "id": "twPRR3m1k6rV"
      },
      "outputs": [],
      "source": [
        "missing_value.sort_values(by='Percentage', ascending=False)"
      ]
    },
    {
      "cell_type": "markdown",
      "source": [
        "There are few missing values in `genre`,`episodes`,`avg_rating` and `type`."
      ],
      "metadata": {
        "id": "8qP6Qylmp2Yw"
      }
    },
    {
      "cell_type": "code",
      "execution_count": null,
      "metadata": {
        "id": "ocz577lYldVw"
      },
      "outputs": [],
      "source": [
        "anime.isnull().sum()"
      ]
    },
    {
      "cell_type": "markdown",
      "source": [
        "There are few missing values in `genre`,`episodes`,`avg_rating` and `type`."
      ],
      "metadata": {
        "id": "qlrKXVBCqC-F"
      }
    },
    {
      "cell_type": "code",
      "execution_count": 29,
      "metadata": {
        "id": "4bv6wsw0lk9f"
      },
      "outputs": [],
      "source": [
        "# I can't replace the nan values with mean or median as it's unique for each movie\n",
        "# So I will drop the null values rows\n",
        "anime_rating.dropna(inplace=True)\n",
        "anime.dropna(inplace=True)"
      ]
    },
    {
      "cell_type": "code",
      "execution_count": null,
      "metadata": {
        "id": "YznHMn9Wloea"
      },
      "outputs": [],
      "source": [
        "anime_rating.isnull().sum()"
      ]
    },
    {
      "cell_type": "code",
      "execution_count": null,
      "metadata": {
        "id": "kqI96xSTl3jO"
      },
      "outputs": [],
      "source": [
        "anime.isnull().sum()"
      ]
    },
    {
      "cell_type": "markdown",
      "source": [
        "Now, There are no null values in the dataset."
      ],
      "metadata": {
        "id": "Pp9PL4I-qHco"
      }
    },
    {
      "cell_type": "markdown",
      "metadata": {
        "id": "NdKtsouIm93c"
      },
      "source": [
        "###*Duplicating Data*"
      ]
    },
    {
      "cell_type": "code",
      "execution_count": null,
      "metadata": {
        "id": "w9Bfeqj7mRky"
      },
      "outputs": [],
      "source": [
        "duplicate = anime_rating.duplicated(subset=['anime_id','user_id']).sum()\n",
        "print('There are {} duplicated rows in the data'.format(duplicate))"
      ]
    },
    {
      "cell_type": "code",
      "execution_count": null,
      "metadata": {
        "id": "xBiVKsyemXSF"
      },
      "outputs": [],
      "source": [
        "duplicate = anime.duplicated().sum()\n",
        "print('There are {} duplicated rows in the data'.format(duplicate))"
      ]
    },
    {
      "cell_type": "markdown",
      "metadata": {
        "id": "sHxOZVDlmsqr"
      },
      "source": [
        "####Getting rid of duplicate data"
      ]
    },
    {
      "cell_type": "code",
      "execution_count": 34,
      "metadata": {
        "id": "Qx63C82vmyEn"
      },
      "outputs": [],
      "source": [
        "anime_rating.drop_duplicates(subset=['anime_id','user_id'],inplace=True)"
      ]
    },
    {
      "cell_type": "markdown",
      "metadata": {
        "id": "4s061SpUnk49"
      },
      "source": [
        "####Checking for duplicate data after removal of duplicates"
      ]
    },
    {
      "cell_type": "code",
      "execution_count": null,
      "metadata": {
        "id": "4GM3VRhTnx-5"
      },
      "outputs": [],
      "source": [
        "duplicate = anime_rating.duplicated().sum()\n",
        "print('There are {} duplicated rows in the data'.format(duplicate))"
      ]
    },
    {
      "cell_type": "markdown",
      "metadata": {
        "id": "__KKcMV5n_T2"
      },
      "source": [
        "###*Indexing*"
      ]
    },
    {
      "cell_type": "code",
      "execution_count": null,
      "metadata": {
        "id": "u9cja5zIoQTy"
      },
      "outputs": [],
      "source": [
        "anime_rating.shape"
      ]
    },
    {
      "cell_type": "markdown",
      "source": [
        "There are `7813604` records after removing missing values and duplicates."
      ],
      "metadata": {
        "id": "cpbT6uWOqft4"
      }
    },
    {
      "cell_type": "code",
      "execution_count": null,
      "metadata": {
        "id": "BUrgXv-eofD_"
      },
      "outputs": [],
      "source": [
        "anime_rating.tail()"
      ]
    },
    {
      "cell_type": "markdown",
      "source": [
        "**The last 5 index values range from `7813722-7813726` but I have only `7813604` records thus the indexes need to be reset**"
      ],
      "metadata": {
        "id": "MqTkURqUqrgk"
      }
    },
    {
      "cell_type": "code",
      "execution_count": null,
      "metadata": {
        "id": "HFekMMYfpT-e"
      },
      "outputs": [],
      "source": [
        "anime_rating.reset_index(drop=True,inplace=True)\n",
        "anime_rating.tail()"
      ]
    },
    {
      "cell_type": "markdown",
      "metadata": {
        "id": "dfwAEd9fpd7y"
      },
      "source": [
        "###*Final Dataset*"
      ]
    },
    {
      "cell_type": "code",
      "execution_count": null,
      "metadata": {
        "id": "VrAj-k0PpmSa"
      },
      "outputs": [],
      "source": [
        "anime_rating.shape"
      ]
    },
    {
      "cell_type": "code",
      "execution_count": null,
      "metadata": {
        "id": "TJ9iIZYypsBs"
      },
      "outputs": [],
      "source": [
        "anime_rating.head()"
      ]
    },
    {
      "cell_type": "markdown",
      "source": [
        "The final dataset has **7813604 records and 9 features with no missing and duplicate values**"
      ],
      "metadata": {
        "id": "c9-Pftb5rDtU"
      }
    },
    {
      "cell_type": "markdown",
      "metadata": {
        "id": "2fH3tbNn0bXH"
      },
      "source": [
        "###*Understanding the Dataset*"
      ]
    },
    {
      "cell_type": "markdown",
      "metadata": {
        "id": "LJK_Wvh60kvN"
      },
      "source": [
        "####Summary Statistics "
      ]
    },
    {
      "cell_type": "markdown",
      "metadata": {
        "id": "sE-HCL2g0sMa"
      },
      "source": [
        "**Numeric Variables** "
      ]
    },
    {
      "cell_type": "code",
      "execution_count": null,
      "metadata": {
        "id": "iBQWAVOT0hoC"
      },
      "outputs": [],
      "source": [
        "anime_rating.describe()"
      ]
    },
    {
      "cell_type": "markdown",
      "source": [
        "From the above table , I can infer:\n",
        "\n",
        "1. The minimum avg_rating is `1.67` and the maximum avg_rating is `9.5`.\n",
        "\n",
        "2. The number of members ranges from `29` to `1013917`.\n",
        "\n",
        "3. Users rating ranges from `-1` to `10`. So, I will replace `-1` with NaN and drop the rows."
      ],
      "metadata": {
        "id": "Ddv3DREErObe"
      }
    },
    {
      "cell_type": "code",
      "execution_count": null,
      "metadata": {
        "id": "rjaiLtcj04Xg"
      },
      "outputs": [],
      "source": [
        "anime_rating[anime_rating.user_rating==-1].shape"
      ]
    },
    {
      "cell_type": "code",
      "execution_count": 43,
      "metadata": {
        "id": "QpKSrgX1060N"
      },
      "outputs": [],
      "source": [
        "anime_rating.user_rating.replace({-1:np.nan},inplace=True)"
      ]
    },
    {
      "cell_type": "code",
      "execution_count": null,
      "metadata": {
        "id": "Mvajjcna09MV"
      },
      "outputs": [],
      "source": [
        "anime_rating.isnull().sum()\n"
      ]
    },
    {
      "cell_type": "code",
      "execution_count": 45,
      "metadata": {
        "id": "p-Xl5cE80_-u"
      },
      "outputs": [],
      "source": [
        "anime_rating.dropna(inplace=True)"
      ]
    },
    {
      "cell_type": "code",
      "execution_count": null,
      "metadata": {
        "id": "-ZVh48kg0_7D"
      },
      "outputs": [],
      "source": [
        "anime_rating.isnull().sum()"
      ]
    },
    {
      "cell_type": "code",
      "execution_count": null,
      "metadata": {
        "id": "1Zp33Ipq1Ee-"
      },
      "outputs": [],
      "source": [
        "anime_rating.shape"
      ]
    },
    {
      "cell_type": "code",
      "execution_count": null,
      "metadata": {
        "id": "mByY8Oh31HOV"
      },
      "outputs": [],
      "source": [
        "anime_rating.describe()"
      ]
    },
    {
      "cell_type": "markdown",
      "source": [
        "**Interpretation:**\n",
        "\n",
        "1. The minimum avg_rating is `2` and the maximum avg_rating is `9.37`.\n",
        "\n",
        "2. The number of members ranges from `33` to `1013917`.\n",
        "\n",
        "3. Users rating ranges from `1` to `10`."
      ],
      "metadata": {
        "id": "WbBD3slmrjGt"
      }
    },
    {
      "cell_type": "markdown",
      "metadata": {
        "id": "AXo1qiaY1KPs"
      },
      "source": [
        "**Categorical Variables**"
      ]
    },
    {
      "cell_type": "code",
      "execution_count": null,
      "metadata": {
        "id": "UAW4FHYA1TGU"
      },
      "outputs": [],
      "source": [
        "anime_rating.describe(include='object')"
      ]
    },
    {
      "cell_type": "markdown",
      "source": [
        "From the above table, I can infer:\n",
        "    \n",
        "1. There are `9892` unique anime_id and the most watched anime id is `1535` with frequency `34226`.\n",
        "\n",
        "2. There are `9892` anime names and the most watched anime name is `Death Note`and `34226` users have been watched.\n",
        "\n",
        "3. There are `3048` unique genres and `Comedy, School, Slice of Life` is the most repeated genre with frequency `49850`.\n",
        "\n",
        "4. There are `6` unique values in type attribute and most of type is `TV` with frequency `4364293`.\n",
        "\n",
        "5. Episodes specify the episode number of that particular anime.\n",
        "\n",
        "6. There are `69600` users and the user with user_id `42635` is the top most user who have watched most of the animes.i.e. `3747` animes. "
      ],
      "metadata": {
        "id": "dIpzqi0sr3iW"
      }
    },
    {
      "cell_type": "markdown",
      "metadata": {
        "id": "Pw_7a1ni1ZKI"
      },
      "source": [
        "####*Correlation*\n"
      ]
    },
    {
      "cell_type": "code",
      "execution_count": null,
      "metadata": {
        "id": "McUYVa7V1c4P"
      },
      "outputs": [],
      "source": [
        "corr_matrix=anime_rating.corr()\n",
        "corr_matrix"
      ]
    },
    {
      "cell_type": "code",
      "execution_count": null,
      "metadata": {
        "id": "g_UmgG3x1i9w"
      },
      "outputs": [],
      "source": [
        "plt.figure(figsize=(11,9))\n",
        "sns.heatmap(corr_matrix, cmap='Purples', annot=True, fmt=\".2f\")\n",
        "sns.set(font_scale=1.5)"
      ]
    },
    {
      "cell_type": "markdown",
      "source": [
        "**Inferences:**\n",
        "\n",
        "Members and avg_rating have a positive relationship.i.e. **0.54**. Because as the number of members increase avg rating of the anime will also increase.\n",
        "\n",
        "There is no Strong relationship betIen any attributes. "
      ],
      "metadata": {
        "id": "xIB_SC10sEDV"
      }
    },
    {
      "cell_type": "markdown",
      "metadata": {
        "id": "ASfwCWlr1mXr"
      },
      "source": [
        "####*Analyse Features*"
      ]
    },
    {
      "cell_type": "code",
      "execution_count": 52,
      "metadata": {
        "id": "7LM8i1o61tGn"
      },
      "outputs": [],
      "source": [
        "nonull_anime=anime_rating.copy()\n",
        "nonull_anime.dropna(inplace=True)\n",
        "from collections import defaultdict\n",
        "\n",
        "all_genres = defaultdict(int)\n",
        "\n",
        "for genres in nonull_anime['genre']:\n",
        "    for genre in genres.split(','):\n",
        "        all_genres[genre.strip()] += 1"
      ]
    },
    {
      "cell_type": "code",
      "execution_count": null,
      "metadata": {
        "id": "cVqCXjwD2BkT"
      },
      "outputs": [],
      "source": [
        "plt.figure(figsize=(15,10))\n",
        "        \n",
        "from wordcloud import WordCloud\n",
        "\n",
        "genres_cloud = WordCloud(width=800, height=400, background_color='white', colormap='gnuplot').generate_from_frequencies(all_genres)\n",
        "plt.imshow(genres_cloud, interpolation='bilinear')\n",
        "plt.axis('off')"
      ]
    },
    {
      "cell_type": "code",
      "execution_count": null,
      "metadata": {
        "id": "_zqCpCcJ2FTo"
      },
      "outputs": [],
      "source": [
        "anime_rating_count = anime_rating.groupby(by = ['name'])['user_rating'].count().reset_index()[['name', 'user_rating']]\n",
        "anime_rating_count.rename(columns = {'user_rating': 'totalRatingCount'},inplace=True)\n",
        "anime_rating_count.head()\n"
      ]
    },
    {
      "cell_type": "code",
      "execution_count": null,
      "metadata": {
        "id": "xvgiJAkp2IIs"
      },
      "outputs": [],
      "source": [
        "top10_animerating=anime_rating_count[['name', 'totalRatingCount']].sort_values(by = 'totalRatingCount',ascending = False).head(10)\n",
        "plt.figure(figsize=(15,5))\n",
        "ax=sns.barplot(x=\"name\", y=\"totalRatingCount\", data=top10_animerating, palette=\"Dark2\")\n",
        "ax.set_xticklabels(ax.get_xticklabels(), fontsize=11, rotation=40, ha=\"right\")\n",
        "ax.set_title('Top 10 Anime based on rating counts',fontsize = 22)\n",
        "ax.set_xlabel('Anime',fontsize = 20) \n",
        "ax.set_ylabel('User Rating count', fontsize = 20)"
      ]
    },
    {
      "cell_type": "markdown",
      "source": [
        "From the graph I can infer:\n",
        "    \n",
        "Based on the user rating I can see that `Death Note` have been rated the most folloId by `Sword Art Online` and `Shingeki no Kyojin`."
      ],
      "metadata": {
        "id": "jVKayYURsRGI"
      }
    },
    {
      "cell_type": "markdown",
      "metadata": {
        "id": "lyRStxd-2MFu"
      },
      "source": [
        "**Top 10 animes based on community size**"
      ]
    },
    {
      "cell_type": "code",
      "execution_count": null,
      "metadata": {
        "id": "zZu-ESpz2Rmg"
      },
      "outputs": [],
      "source": [
        "anime_rating_data=anime_rating.merge(anime_rating_count, left_on = 'name', right_on = 'name', how = 'left')\n",
        "anime_rating_data.head()"
      ]
    },
    {
      "cell_type": "code",
      "execution_count": null,
      "metadata": {
        "id": "7ec_y1bN2We5"
      },
      "outputs": [],
      "source": [
        "anime_rating_data.duplicated(subset=['name']).sum()"
      ]
    },
    {
      "cell_type": "code",
      "execution_count": null,
      "metadata": {
        "id": "GxRPcUe92YxN"
      },
      "outputs": [],
      "source": [
        "anime1=anime_rating_data.drop_duplicates(subset=['name'])\n",
        "anime1.head()"
      ]
    },
    {
      "cell_type": "code",
      "execution_count": null,
      "metadata": {
        "id": "8SOHGiAV2cLf"
      },
      "outputs": [],
      "source": [
        "top10_animemembers=anime1[['name', 'members']].sort_values(by = 'members',ascending = False).head(10)\n",
        "plt.figure(figsize=(15,5))\n",
        "ax=sns.barplot(x=\"name\", y=\"members\", data=top10_animemembers, palette=\"gnuplot2\")\n",
        "ax.set_xticklabels(ax.get_xticklabels(), fontsize=11, rotation=40, ha=\"right\")\n",
        "ax.set_title('Top 10 Anime based on members',fontsize = 22)\n",
        "ax.set_xlabel('Anime',fontsize = 20) \n",
        "ax.set_ylabel('Community Size', fontsize = 20)"
      ]
    },
    {
      "cell_type": "markdown",
      "source": [
        "**Interpretation:**\n",
        "    \n",
        "`Death Note` as the huge community size folloId by `Shingeki no kyojin` and `Sword Art Online`."
      ],
      "metadata": {
        "id": "_f8hUeWMsess"
      }
    },
    {
      "cell_type": "markdown",
      "metadata": {
        "id": "dJou5x_c3Iwf"
      },
      "source": [
        "**Distribution of rating**"
      ]
    },
    {
      "cell_type": "code",
      "execution_count": null,
      "metadata": {
        "id": "SLdVdkGS3M7R"
      },
      "outputs": [],
      "source": [
        "plt.figure(figsize = (15, 7))\n",
        "plt.subplot(1,2,1)\n",
        "anime_rating['avg_rating'].hist(bins=70)\n",
        "plt.title(\"Rating of Ibsites\")\n",
        "plt.subplot(1,2,2)\n",
        "anime_rating['user_rating'].hist(bins=70)\n",
        "plt.title(\"Rating of users\")"
      ]
    },
    {
      "cell_type": "markdown",
      "source": [
        "**Interpretation:**\n",
        "\n",
        "Most of the ratings are spread betIen `6-10`.\n",
        "\n",
        "The mode of the distribution is around `7.5-8.0`.\n",
        "\n",
        "Both the distribution are left skeId."
      ],
      "metadata": {
        "id": "knqpIKzAszGa"
      }
    },
    {
      "cell_type": "markdown",
      "metadata": {
        "id": "0zLBaE9E3Tpm"
      },
      "source": [
        "**Percentage of users in each type**"
      ]
    },
    {
      "cell_type": "code",
      "execution_count": 61,
      "metadata": {
        "colab": {
          "base_uri": "https://localhost:8080/",
          "height": 575
        },
        "id": "RZ5-_dG43cjs",
        "outputId": "e83aa072-63a1-4258-f614-55b9f5ebb8b5"
      },
      "outputs": [
        {
          "output_type": "display_data",
          "data": {
            "text/plain": [
              "<Figure size 1080x720 with 1 Axes>"
            ],
            "image/png": "[encoded data removed]"
          },
          "metadata": {}
        }
      ],
      "source": [
        "labels = anime_rating['type'].value_counts().index\n",
        "values = anime_rating['type'].value_counts().values\n",
        "plt.figure(figsize=(15,10))\n",
        "plt.pie(x=values,labels=labels,autopct='%.1f',colors=['lightblue','lightgreen','lightgrey','#FF6361','Cornsilk','#BC5090'])\n",
        "plt.legend()\n",
        "plt.show()"
      ]
    },
    {
      "cell_type": "markdown",
      "source": [
        "**Interpretation:**\n",
        "\n",
        "68.9% of the anime's Ire aired on TV follow Id by 13.3% through Movie.\n",
        "\n",
        "9.7% of anime's are streamed as OVA which is greater than ONA(1.1%)."
      ],
      "metadata": {
        "id": "w5Ty0CpytyNz"
      }
    },
    {
      "cell_type": "markdown",
      "metadata": {
        "id": "lvKOy8UC3jnd"
      },
      "source": [
        "**Count of genres**"
      ]
    },
    {
      "cell_type": "code",
      "execution_count": 62,
      "metadata": {
        "id": "68gWCSTA3mZL"
      },
      "outputs": [],
      "source": [
        "d1=pd.DataFrame(list(dict(all_genres).keys()),columns=['Genre'])"
      ]
    },
    {
      "cell_type": "code",
      "execution_count": 63,
      "metadata": {
        "id": "qafh-H1_3oXR"
      },
      "outputs": [],
      "source": [
        "d2=pd.DataFrame(list(dict(all_genres).values()),columns=['count'])"
      ]
    },
    {
      "cell_type": "code",
      "execution_count": null,
      "metadata": {
        "id": "fqcqByVj3sSl"
      },
      "outputs": [],
      "source": [
        "all_genres1=pd.concat(objs=(d1,d2),axis=1)\n",
        "all_genres1.head()"
      ]
    },
    {
      "cell_type": "code",
      "execution_count": null,
      "metadata": {
        "id": "WaOgrMEV3urg"
      },
      "outputs": [],
      "source": [
        "all_genres1=all_genres1.sort_values(by='count',ascending=False)\n",
        "plt.figure(figsize=(15,15))\n",
        "sns.barplot(all_genres1['count'],all_genres1['Genre'])"
      ]
    },
    {
      "cell_type": "markdown",
      "source": [
        "From the plot I can infer that most of the animes watched belongs to comedy genre, next to that action and romance are most watched."
      ],
      "metadata": {
        "id": "TaAQt9zct4N4"
      }
    },
    {
      "cell_type": "markdown",
      "metadata": {
        "id": "r96EC-oq49wO"
      },
      "source": [
        "#**Data Preprocessing**"
      ]
    },
    {
      "cell_type": "markdown",
      "metadata": {
        "id": "b_QtGYLq5RUI"
      },
      "source": [
        "###*Categorical Encoding*"
      ]
    },
    {
      "cell_type": "code",
      "execution_count": null,
      "metadata": {
        "id": "SFFdKlSL5HVP"
      },
      "outputs": [],
      "source": [
        "anime.head()"
      ]
    },
    {
      "cell_type": "code",
      "execution_count": null,
      "metadata": {
        "id": "TiI8LgpE5YsY"
      },
      "outputs": [],
      "source": [
        "genres = anime['genre'].str.split(',', expand=True)\n",
        "genres.head()"
      ]
    },
    {
      "cell_type": "code",
      "execution_count": null,
      "metadata": {
        "id": "-CPrsmAq5bli"
      },
      "outputs": [],
      "source": [
        "# considering only first four genres columns \n",
        "genres = genres.iloc[:,:4]\n",
        "genres.columns = ['genre1', 'genre2', 'genre3','genre4']\n",
        "genres.head()"
      ]
    },
    {
      "cell_type": "code",
      "execution_count": 69,
      "metadata": {
        "id": "RCyYagDH5eMF"
      },
      "outputs": [],
      "source": [
        "updated_rating=anime.copy()"
      ]
    },
    {
      "cell_type": "code",
      "execution_count": null,
      "metadata": {
        "id": "sefE-svW5gS4"
      },
      "outputs": [],
      "source": [
        "updated_rating = updated_rating.drop('genre', axis=1) \n",
        "updated_rating = pd.concat([updated_rating, genres], axis=1)\n",
        "updated_rating.head()"
      ]
    },
    {
      "cell_type": "code",
      "execution_count": null,
      "metadata": {
        "id": "v_cguEkK5jIQ"
      },
      "outputs": [],
      "source": [
        "updated_rating['type'].unique()"
      ]
    },
    {
      "cell_type": "code",
      "execution_count": 72,
      "metadata": {
        "id": "T4OuBIn35lhL"
      },
      "outputs": [],
      "source": [
        "updated_rating.episodes=updated_rating.episodes.astype('int')"
      ]
    },
    {
      "cell_type": "code",
      "execution_count": 73,
      "metadata": {
        "id": "eslfaXp05nn5"
      },
      "outputs": [],
      "source": [
        "df_cat = updated_rating.select_dtypes(np.object)\n",
        "df_num = updated_rating.select_dtypes(np.number)"
      ]
    },
    {
      "cell_type": "code",
      "execution_count": null,
      "metadata": {
        "id": "UmfLNl785p_l"
      },
      "outputs": [],
      "source": [
        "df_dum = pd.get_dummies(df_cat[['type','genre1','genre2','genre3','genre4']])\n",
        "df_dum.head()"
      ]
    },
    {
      "cell_type": "markdown",
      "metadata": {
        "id": "sG2GVcht6G34"
      },
      "source": [
        "###*Feature Scaling*"
      ]
    },
    {
      "cell_type": "code",
      "execution_count": null,
      "metadata": {
        "id": "5i6XsIbD6Kib"
      },
      "outputs": [],
      "source": [
        "df_num.head()"
      ]
    },
    {
      "cell_type": "code",
      "execution_count": null,
      "metadata": {
        "id": "2YSjYp366OpN"
      },
      "outputs": [],
      "source": [
        "df_num.set_index('anime_id',inplace=True)\n",
        "df_num.head()"
      ]
    },
    {
      "cell_type": "code",
      "execution_count": null,
      "metadata": {
        "id": "eB7SCJiJ6Q5-"
      },
      "outputs": [],
      "source": [
        "from sklearn.preprocessing import StandardScaler\n",
        "ss=StandardScaler()\n",
        "df_num\n",
        "df_scale = pd.DataFrame(ss.fit_transform(df_num),columns=df_num.columns)\n",
        "df_scale.head()"
      ]
    },
    {
      "cell_type": "code",
      "execution_count": null,
      "metadata": {
        "id": "UeVGw5il6Ted"
      },
      "outputs": [],
      "source": [
        "df_dum.reset_index(drop=True,inplace=True)"
      ]
    },
    {
      "cell_type": "code",
      "execution_count": null,
      "metadata": {
        "id": "5ax7Bxzn6VrK"
      },
      "outputs": [],
      "source": [
        "full_df = pd.concat([df_scale,df_dum],axis=1)\n",
        "full_df.head()"
      ]
    },
    {
      "cell_type": "code",
      "execution_count": null,
      "metadata": {
        "id": "WMBanDu76X2R"
      },
      "outputs": [],
      "source": [
        "full_df.shape"
      ]
    },
    {
      "cell_type": "markdown",
      "metadata": {
        "id": "sy8EhSiz7J70"
      },
      "source": [
        "#**Clustering**"
      ]
    },
    {
      "cell_type": "code",
      "execution_count": null,
      "metadata": {
        "id": "_8jVBY_P7RuY"
      },
      "outputs": [],
      "source": [
        "ssd = []\n",
        "sscore = []\n",
        "for k in range(2, 10):\n",
        "    kmeans = KMeans(n_clusters=k, random_state=4)\n",
        "    kmeans.fit(full_df)\n",
        "    ssd.append(kmeans.inertia_)\n",
        "    ss = silhouette_score(full_df, kmeans.labels_)\n",
        "    print (\"For {} clusters the silhouette score is {})\".format(k, ss))\n",
        "    sscore.append(ss)"
      ]
    },
    {
      "cell_type": "code",
      "execution_count": null,
      "metadata": {
        "id": "9siYiTs57csC"
      },
      "outputs": [],
      "source": [
        "fig, ax = plt.subplots()\n",
        "ax.plot(range(2,10), ssd, 'r')\n",
        "ax.set_xlabel('No. Clusters')\n",
        "ax.set_ylabel('SSD')"
      ]
    },
    {
      "cell_type": "markdown",
      "source": [
        "From the above graph I can infer that for `K = 4`, there is an elbow in the plot. \n",
        "Before this elbow point, the SSD is decreasing rapidly and after `K = 4`, the SSD is decreasing slowly."
      ],
      "metadata": {
        "id": "dDnkAKM8uGZh"
      }
    },
    {
      "cell_type": "code",
      "execution_count": null,
      "metadata": {
        "id": "KEx4HTIb7fSO"
      },
      "outputs": [],
      "source": [
        "new_clusters = KMeans(n_clusters = 4, random_state = 10)\n",
        "\n",
        "new_clusters.fit(full_df)\n",
        "\n",
        "updated_rating['Cluster'] = new_clusters.labels_\n",
        "updated_rating.head()"
      ]
    },
    {
      "cell_type": "code",
      "execution_count": null,
      "metadata": {
        "id": "l-UEhVNT7hrk"
      },
      "outputs": [],
      "source": [
        "updated_rating.Cluster.value_counts()"
      ]
    },
    {
      "cell_type": "code",
      "execution_count": null,
      "metadata": {
        "id": "U7XBb9uR7kE-"
      },
      "outputs": [],
      "source": [
        "sns.countplot(data= updated_rating, x = 'Cluster')\n",
        "plt.title('Size of Cluster', fontsize = 15)\n",
        "plt.xlabel('Clusters', fontsize = 15)\n",
        "plt.ylabel('Number of Animes', fontsize = 15)\n",
        "plt.show()"
      ]
    },
    {
      "cell_type": "code",
      "execution_count": null,
      "metadata": {
        "id": "rfIJQhdQ7mpI"
      },
      "outputs": [],
      "source": [
        "# plot the lmplot to visualize the clusters\n",
        "# pass the different markers to display the points in each cluster with different shapes\n",
        "# the 'hue' parameter returns colors for each cluster\n",
        "sns.lmplot(x = 'rating', y = 'members', data = updated_rating, hue = 'Cluster', fit_reg = False, size = 5)\n",
        "\n",
        "# set the axes and plot labels\n",
        "# set the font size using 'fontsize'\n",
        "plt.title('K-means Clustering (for K=4)', fontsize = 15)\n",
        "plt.ylabel('Community Size', fontsize = 15)\n",
        "plt.xlabel('Rating', fontsize = 15)\n",
        "\n",
        "# display the plot\n",
        "plt.show()"
      ]
    },
    {
      "cell_type": "markdown",
      "metadata": {
        "id": "-zGv2HhQ8S5u"
      },
      "source": [
        "#**Dimensionality Reduction**"
      ]
    },
    {
      "cell_type": "markdown",
      "metadata": {
        "id": "SAjhAN9F8a9O"
      },
      "source": [
        "###*PCA (Principal Component Analysis)*"
      ]
    },
    {
      "cell_type": "code",
      "execution_count": null,
      "metadata": {
        "id": "Y6YYJewN8aKk"
      },
      "outputs": [],
      "source": [
        "anime_rating.shape"
      ]
    },
    {
      "cell_type": "code",
      "execution_count": null,
      "metadata": {
        "id": "I2ISO16J8mHY"
      },
      "outputs": [],
      "source": [
        "# Considering first 5000 users\n",
        "sel_data= anime_rating[anime_rating.user_id <= 5000]\n",
        "sel_data.head()"
      ]
    },
    {
      "cell_type": "code",
      "execution_count": null,
      "metadata": {
        "id": "NWNYs8YK8oP0"
      },
      "outputs": [],
      "source": [
        "sel_data.shape"
      ]
    },
    {
      "cell_type": "code",
      "execution_count": null,
      "metadata": {
        "id": "Dm8pZL2_8q-1"
      },
      "outputs": [],
      "source": [
        "# calculating the frequency based on the user id and anime names\n",
        "user_anime = pd.crosstab(sel_data['user_id'], sel_data['name'])\n",
        "user_anime.head()"
      ]
    },
    {
      "cell_type": "code",
      "execution_count": null,
      "metadata": {
        "id": "2MW9TEX38tQp"
      },
      "outputs": [],
      "source": [
        "user_anime.shape"
      ]
    },
    {
      "cell_type": "code",
      "execution_count": null,
      "metadata": {
        "id": "uLQ48lDk8vUP"
      },
      "outputs": [],
      "source": [
        "# initially considering 2000 components\n",
        "pca = PCA(n_components=2000)\n",
        "pca.fit(user_anime)"
      ]
    },
    {
      "cell_type": "code",
      "execution_count": null,
      "metadata": {
        "id": "zI8Um41m8x-C"
      },
      "outputs": [],
      "source": [
        "#visualizing PCA components with cumulative scree plot\n",
        "plt.plot(np.cumsum(pca.explained_variance_ratio_))\n",
        "plt.show()\n"
      ]
    },
    {
      "cell_type": "markdown",
      "source": [
        "From the above graph I can see that from the principle components 1500 the variance is almost 1."
      ],
      "metadata": {
        "id": "_0ReHvzHue4O"
      }
    },
    {
      "cell_type": "code",
      "execution_count": null,
      "metadata": {
        "id": "CSSNkRsL8001"
      },
      "outputs": [],
      "source": [
        "pca = PCA(n_components=1500)\n",
        "pca.fit(user_anime)\n",
        "\n",
        "pca_samples = pca.transform(user_anime)"
      ]
    },
    {
      "cell_type": "code",
      "execution_count": null,
      "metadata": {
        "id": "fNmmGOmH832c"
      },
      "outputs": [],
      "source": [
        "np.cumsum(pca.explained_variance_ratio_)"
      ]
    },
    {
      "cell_type": "code",
      "execution_count": null,
      "metadata": {
        "id": "hCK04b4r86iZ"
      },
      "outputs": [],
      "source": [
        "ps = pd.DataFrame(pca_samples)\n",
        "ps.head()"
      ]
    },
    {
      "cell_type": "markdown",
      "metadata": {
        "id": "k9grD6IU8_L0"
      },
      "source": [
        "###*Clustering after dimension reduction*"
      ]
    },
    {
      "cell_type": "code",
      "execution_count": null,
      "metadata": {
        "id": "CRRWv7Ig9EGf"
      },
      "outputs": [],
      "source": [
        "new_clusters = KMeans(n_clusters = 3, random_state = 4)\n",
        "\n",
        "# fit the model\n",
        "new_clusters.fit(ps)\n",
        "\n",
        "# append the cluster label for each point in the dataframe 'df_cust'\n",
        "user_anime['Cluster'] = new_clusters.labels_\n"
      ]
    },
    {
      "cell_type": "code",
      "source": [
        "fig, ax = plt.subplots(figsize=(15,5))\n",
        "ax.plot(range(2,10), ssd, 'r')\n",
        "ax.set_xlabel('No. Clusters')\n",
        "ax.set_ylabel('SSD')"
      ],
      "metadata": {
        "id": "2txzPhm4uzPP"
      },
      "execution_count": null,
      "outputs": []
    },
    {
      "cell_type": "markdown",
      "source": [
        "From the above plot I can see the elbow point is at `3`."
      ],
      "metadata": {
        "id": "ZJm5GplYu8ST"
      }
    },
    {
      "cell_type": "code",
      "execution_count": null,
      "metadata": {
        "id": "9L6pJbOt9KM9"
      },
      "outputs": [],
      "source": [
        "user_anime.head()"
      ]
    },
    {
      "cell_type": "code",
      "execution_count": null,
      "metadata": {
        "id": "5OXNr3QT9Mcp"
      },
      "outputs": [],
      "source": [
        "user_anime.Cluster.value_counts()"
      ]
    },
    {
      "cell_type": "code",
      "execution_count": null,
      "metadata": {
        "id": "LckOVuXI9O6z"
      },
      "outputs": [],
      "source": [
        "# describing cluster 0\n",
        "cluster0 = user_anime[user_anime['Cluster']==0].drop('Cluster',axis=1).mean()"
      ]
    },
    {
      "cell_type": "code",
      "execution_count": null,
      "metadata": {
        "id": "BR0Rg3v59RhT"
      },
      "outputs": [],
      "source": [
        "cluster0.sort_values(ascending=False)[0:15]"
      ]
    },
    {
      "cell_type": "code",
      "execution_count": null,
      "metadata": {
        "id": "JIFYdIae9UM4"
      },
      "outputs": [],
      "source": [
        "# describe cluster 1\n",
        "cluster1 = user_anime[user_anime['Cluster']==1].drop('Cluster',axis=1).mean()"
      ]
    },
    {
      "cell_type": "code",
      "execution_count": null,
      "metadata": {
        "id": "rnnMdkFZ9WsE"
      },
      "outputs": [],
      "source": [
        "cluster1.sort_values(ascending=False)[0:15]"
      ]
    },
    {
      "cell_type": "code",
      "execution_count": null,
      "metadata": {
        "id": "HzX7HF7H9ZuI"
      },
      "outputs": [],
      "source": [
        "def cluster_plot(data, nclusters):\n",
        "    import matplotlib.pyplot as plt\n",
        "    from sklearn.cluster import KMeans\n",
        "    X = data.copy()\n",
        "\n",
        "    km = KMeans(n_clusters=nclusters, init='random', n_init=10, max_iter=300, tol=1e-04, random_state=0)\n",
        "    y_km = km.fit_predict(X)\n",
        "\n",
        "\n",
        "    # Visualize it:\n",
        "    plt.figure(figsize=(8, 6))\n",
        "    plt.scatter(X.iloc[:,0], X.iloc[:,1], c=km.labels_.astype(float))\n",
        "    \n",
        "    # plot the centroids\n",
        "    plt.scatter(km.cluster_centers_[:, 0], km.cluster_centers_[:, 1], s=250, marker='*', c='red', label='centroids')\n",
        "    plt.legend(scatterpoints=1)\n",
        "    plt.grid()\n",
        "    plt.show()"
      ]
    },
    {
      "cell_type": "code",
      "execution_count": null,
      "metadata": {
        "id": "chECIrvE9jjX"
      },
      "outputs": [],
      "source": [
        "cluster_plot(ps, 3)"
      ]
    },
    {
      "cell_type": "markdown",
      "metadata": {
        "id": "on6zqKY4AO_r"
      },
      "source": [
        "#**Recommendation system**"
      ]
    },
    {
      "cell_type": "markdown",
      "metadata": {
        "id": "j_RLgVK6AV0K"
      },
      "source": [
        "###*Popularity Based recommendation system*"
      ]
    },
    {
      "cell_type": "code",
      "execution_count": null,
      "metadata": {
        "id": "Gk4PyL_0Aakl"
      },
      "outputs": [],
      "source": [
        "anime_rating_data.head()"
      ]
    },
    {
      "cell_type": "code",
      "execution_count": null,
      "metadata": {
        "id": "y5NVp-cwAfHH"
      },
      "outputs": [],
      "source": [
        "rating1=anime_rating_data[['anime_id','name','genre','avg_rating','totalRatingCount']]\n",
        "rating1.drop_duplicates(subset=['anime_id'],inplace=True)\n",
        "rating1.reset_index(drop=True,inplace=True)"
      ]
    },
    {
      "cell_type": "code",
      "execution_count": null,
      "metadata": {
        "id": "aTGTvZvGAhWK"
      },
      "outputs": [],
      "source": [
        "rating1.shape"
      ]
    },
    {
      "cell_type": "code",
      "execution_count": null,
      "metadata": {
        "id": "1LJBB-rYAjwe"
      },
      "outputs": [],
      "source": [
        "# mean rating across all the animes\n",
        "C = rating1['avg_rating'].mean()\n",
        "# animes having total rate count greater than 85%\n",
        "m = rating1['totalRatingCount'].quantile(0.85)\n",
        "print('m: ', m, 'C: ', C)"
      ]
    },
    {
      "cell_type": "code",
      "execution_count": null,
      "metadata": {
        "id": "onZMNL7lAmTp"
      },
      "outputs": [],
      "source": [
        "def Iighted_rating(x, m=m, C=C):\n",
        "    v = x['totalRatingCount']\n",
        "    R = x['avg_rating']\n",
        "    return (v/(v+m) * R) + (m/(m+v) * C)"
      ]
    },
    {
      "cell_type": "code",
      "execution_count": null,
      "metadata": {
        "id": "RPIxB7_YAowH"
      },
      "outputs": [],
      "source": [
        "# animes having total rate count greater than 85% is considered into lists_animes\n",
        "lists_animes =rating1.copy().loc[rating1['totalRatingCount'] >= m]\n",
        "lists_animes.shape"
      ]
    },
    {
      "cell_type": "code",
      "execution_count": null,
      "metadata": {
        "id": "GpqaT1DxArkp"
      },
      "outputs": [],
      "source": [
        "# Define a new feature 'score' and calculate its value with `Iighted_rating()`\n",
        "lists_animes['score'] = lists_animes.apply(Iighted_rating, axis=1)"
      ]
    },
    {
      "cell_type": "code",
      "execution_count": null,
      "metadata": {
        "id": "OO5nEgGhAtmE"
      },
      "outputs": [],
      "source": [
        "lists_animes.head()"
      ]
    },
    {
      "cell_type": "code",
      "execution_count": null,
      "metadata": {
        "id": "AsE6ohj9Av8E"
      },
      "outputs": [],
      "source": [
        "#Sort movies based on score calculated above\n",
        "lists_animes = lists_animes.sort_values('score', ascending=False)\n",
        "\n",
        "#Print the top 10 movies\n",
        "lists_animes[['name', 'totalRatingCount', 'avg_rating', 'score']].head(10)"
      ]
    },
    {
      "cell_type": "code",
      "execution_count": null,
      "metadata": {
        "id": "INo8hhshAyhZ"
      },
      "outputs": [],
      "source": [
        "pop=lists_animes[['name', 'totalRatingCount', 'avg_rating', 'score']].head(10)\n",
        "plt.figure(figsize=(15,10))\n",
        "sns.barplot(pop['score'],pop['name'])\n",
        "plt.title('Anime')\n",
        "plt.xlabel('Popularity Score')\n",
        "plt.show()"
      ]
    },
    {
      "cell_type": "markdown",
      "source": [
        "The above plot shows top `10 animes` which can be recommended based on trend."
      ],
      "metadata": {
        "id": "gfKE3mkPvPFi"
      }
    },
    {
      "cell_type": "markdown",
      "metadata": {
        "id": "iHBkCkFMBVBU"
      },
      "source": [
        "###*Content based Recommendation System*"
      ]
    },
    {
      "cell_type": "code",
      "execution_count": null,
      "metadata": {
        "colab": {
          "base_uri": "https://localhost:8080/",
          "height": 320
        },
        "id": "wHAWira2A1jm",
        "outputId": "69b6ebbd-cd92-4ef1-bf0e-6cda479f23d0"
      },
      "outputs": [
        {
          "data": {
            "text/html": [
              "\n",
              "  <div id=\"df-30ed8d61-faa9-4e0e-b375-4e738c8f8653\">\n",
              "    <div class=\"colab-df-container\">\n",
              "      <div>\n",
              "<style scoped>\n",
              "    .dataframe tbody tr th:only-of-type {\n",
              "        vertical-align: middle;\n",
              "    }\n",
              "\n",
              "    .dataframe tbody tr th {\n",
              "        vertical-align: top;\n",
              "    }\n",
              "\n",
              "    .dataframe thead th {\n",
              "        text-align: right;\n",
              "    }\n",
              "</style>\n",
              "<table border=\"1\" class=\"dataframe\">\n",
              "  <thead>\n",
              "    <tr style=\"text-align: right;\">\n",
              "      <th></th>\n",
              "      <th>anime_id</th>\n",
              "      <th>name</th>\n",
              "      <th>genre</th>\n",
              "      <th>type</th>\n",
              "      <th>episodes</th>\n",
              "      <th>rating</th>\n",
              "      <th>members</th>\n",
              "      <th>describe</th>\n",
              "    </tr>\n",
              "  </thead>\n",
              "  <tbody>\n",
              "    <tr>\n",
              "      <th>0</th>\n",
              "      <td>32281</td>\n",
              "      <td>Kimi no Na wa</td>\n",
              "      <td>Drama, Romance, School, Supernatural</td>\n",
              "      <td>Movie</td>\n",
              "      <td>1</td>\n",
              "      <td>9.370000</td>\n",
              "      <td>200630</td>\n",
              "      <td>Drama, Romance, School, SupernaturalMovie1</td>\n",
              "    </tr>\n",
              "    <tr>\n",
              "      <th>1</th>\n",
              "      <td>5114</td>\n",
              "      <td>Fullmetal Alchemist Brotherhood</td>\n",
              "      <td>Action, Adventure, Drama, Fantasy, Magic, Mili...</td>\n",
              "      <td>TV</td>\n",
              "      <td>64</td>\n",
              "      <td>9.260000</td>\n",
              "      <td>793665</td>\n",
              "      <td>Action, Adventure, Drama, Fantasy, Magic, Mili...</td>\n",
              "    </tr>\n",
              "    <tr>\n",
              "      <th>2</th>\n",
              "      <td>28977</td>\n",
              "      <td>Gintama°</td>\n",
              "      <td>Action, Comedy, Historical, Parody, Samurai, S...</td>\n",
              "      <td>TV</td>\n",
              "      <td>51</td>\n",
              "      <td>9.250000</td>\n",
              "      <td>114262</td>\n",
              "      <td>Action, Comedy, Historical, Parody, Samurai, S...</td>\n",
              "    </tr>\n",
              "    <tr>\n",
              "      <th>3</th>\n",
              "      <td>9253</td>\n",
              "      <td>SteinsGate</td>\n",
              "      <td>Sci-Fi, Thriller</td>\n",
              "      <td>TV</td>\n",
              "      <td>24</td>\n",
              "      <td>9.170000</td>\n",
              "      <td>673572</td>\n",
              "      <td>Sci-Fi, ThrillerTV24</td>\n",
              "    </tr>\n",
              "    <tr>\n",
              "      <th>4</th>\n",
              "      <td>9969</td>\n",
              "      <td>Gintama039</td>\n",
              "      <td>Action, Comedy, Historical, Parody, Samurai, S...</td>\n",
              "      <td>TV</td>\n",
              "      <td>51</td>\n",
              "      <td>9.160000</td>\n",
              "      <td>151266</td>\n",
              "      <td>Action, Comedy, Historical, Parody, Samurai, S...</td>\n",
              "    </tr>\n",
              "  </tbody>\n",
              "</table>\n",
              "</div>\n",
              "      <button class=\"colab-df-convert\" onclick=\"convertToInteractive('df-30ed8d61-faa9-4e0e-b375-4e738c8f8653')\"\n",
              "              title=\"Convert this dataframe to an interactive table.\"\n",
              "              style=\"display:none;\">\n",
              "        \n",
              "  <svg xmlns=\"http://www.w3.org/2000/svg\" height=\"24px\"viewBox=\"0 0 24 24\"\n",
              "       width=\"24px\">\n",
              "    <path d=\"M0 0h24v24H0V0z\" fill=\"none\"/>\n",
              "    <path d=\"M18.56 5.44l.94 2.06.94-2.06 2.06-.94-2.06-.94-.94-2.06-.94 2.06-2.06.94zm-11 1L8.5 8.5l.94-2.06 2.06-.94-2.06-.94L8.5 2.5l-.94 2.06-2.06.94zm10 10l.94 2.06.94-2.06 2.06-.94-2.06-.94-.94-2.06-.94 2.06-2.06.94z\"/><path d=\"M17.41 7.96l-1.37-1.37c-.4-.4-.92-.59-1.43-.59-.52 0-1.04.2-1.43.59L10.3 9.45l-7.72 7.72c-.78.78-.78 2.05 0 2.83L4 21.41c.39.39.9.59 1.41.59.51 0 1.02-.2 1.41-.59l7.78-7.78 2.81-2.81c.8-.78.8-2.07 0-2.86zM5.41 20L4 18.59l7.72-7.72 1.47 1.35L5.41 20z\"/>\n",
              "  </svg>\n",
              "      </button>\n",
              "      \n",
              "  <style>\n",
              "    .colab-df-container {\n",
              "      display:flex;\n",
              "      flex-wrap:wrap;\n",
              "      gap: 12px;\n",
              "    }\n",
              "\n",
              "    .colab-df-convert {\n",
              "      background-color: #E8F0FE;\n",
              "      border: none;\n",
              "      border-radius: 50%;\n",
              "      cursor: pointer;\n",
              "      display: none;\n",
              "      fill: #1967D2;\n",
              "      height: 32px;\n",
              "      padding: 0 0 0 0;\n",
              "      width: 32px;\n",
              "    }\n",
              "\n",
              "    .colab-df-convert:hover {\n",
              "      background-color: #E2EBFA;\n",
              "      box-shadow: 0px 1px 2px rgba(60, 64, 67, 0.3), 0px 1px 3px 1px rgba(60, 64, 67, 0.15);\n",
              "      fill: #174EA6;\n",
              "    }\n",
              "\n",
              "    [theme=dark] .colab-df-convert {\n",
              "      background-color: #3B4455;\n",
              "      fill: #D2E3FC;\n",
              "    }\n",
              "\n",
              "    [theme=dark] .colab-df-convert:hover {\n",
              "      background-color: #434B5C;\n",
              "      box-shadow: 0px 1px 3px 1px rgba(0, 0, 0, 0.15);\n",
              "      filter: drop-shadow(0px 1px 2px rgba(0, 0, 0, 0.3));\n",
              "      fill: #FFFFFF;\n",
              "    }\n",
              "  </style>\n",
              "\n",
              "      <script>\n",
              "        const buttonEl =\n",
              "          document.querySelector('#df-30ed8d61-faa9-4e0e-b375-4e738c8f8653 button.colab-df-convert');\n",
              "        buttonEl.style.display =\n",
              "          google.colab.kernel.accessAllowed ? 'block' : 'none';\n",
              "\n",
              "        async function convertToInteractive(key) {\n",
              "          const element = document.querySelector('#df-30ed8d61-faa9-4e0e-b375-4e738c8f8653');\n",
              "          const dataTable =\n",
              "            await google.colab.kernel.invokeFunction('convertToInteractive',\n",
              "                                                     [key], {});\n",
              "          if (!dataTable) return;\n",
              "\n",
              "          const docLinkHtml = 'Like what you see? Visit the ' +\n",
              "            '<a target=\"_blank\" href=https://colab.research.google.com/notebooks/data_table.ipynb>data table notebook</a>'\n",
              "            + ' to learn more about interactive tables.';\n",
              "          element.innerHTML = '';\n",
              "          dataTable['output_type'] = 'display_data';\n",
              "          await google.colab.output.renderOutput(dataTable, element);\n",
              "          const docLink = document.createElement('div');\n",
              "          docLink.innerHTML = docLinkHtml;\n",
              "          element.appendChild(docLink);\n",
              "        }\n",
              "      </script>\n",
              "    </div>\n",
              "  </div>\n",
              "  "
            ],
            "text/plain": [
              "   anime_id                             name  \\\n",
              "0     32281                    Kimi no Na wa   \n",
              "1      5114  Fullmetal Alchemist Brotherhood   \n",
              "2     28977                         Gintama°   \n",
              "3      9253                       SteinsGate   \n",
              "4      9969                       Gintama039   \n",
              "\n",
              "                                               genre   type episodes   rating  \\\n",
              "0               Drama, Romance, School, Supernatural  Movie        1 9.370000   \n",
              "1  Action, Adventure, Drama, Fantasy, Magic, Mili...     TV       64 9.260000   \n",
              "2  Action, Comedy, Historical, Parody, Samurai, S...     TV       51 9.250000   \n",
              "3                                   Sci-Fi, Thriller     TV       24 9.170000   \n",
              "4  Action, Comedy, Historical, Parody, Samurai, S...     TV       51 9.160000   \n",
              "\n",
              "   members                                           describe  \n",
              "0   200630         Drama, Romance, School, SupernaturalMovie1  \n",
              "1   793665  Action, Adventure, Drama, Fantasy, Magic, Mili...  \n",
              "2   114262  Action, Comedy, Historical, Parody, Samurai, S...  \n",
              "3   673572                               Sci-Fi, ThrillerTV24  \n",
              "4   151266  Action, Comedy, Historical, Parody, Samurai, S...  "
            ]
          },
          "execution_count": 120,
          "metadata": {},
          "output_type": "execute_result"
        }
      ],
      "source": [
        "data=anime.copy()\n",
        "# considering the anime content\n",
        "data['describe']=data['genre']+data['type']+data['episodes']\n",
        "data['describe'].fillna(' ')\n",
        "data.head()"
      ]
    },
    {
      "cell_type": "code",
      "execution_count": null,
      "metadata": {
        "id": "oP9bmLi1A362"
      },
      "outputs": [],
      "source": [
        "data.drop_duplicates(subset=['name'],inplace=True)"
      ]
    },
    {
      "cell_type": "code",
      "execution_count": null,
      "metadata": {
        "colab": {
          "base_uri": "https://localhost:8080/"
        },
        "id": "3gUoxp4jA6S9",
        "outputId": "11709c1e-bdb3-4ada-d260-0ce485293a91"
      },
      "outputs": [
        {
          "data": {
            "text/plain": [
              "(11806, 8)"
            ]
          },
          "execution_count": 122,
          "metadata": {},
          "output_type": "execute_result"
        }
      ],
      "source": [
        "data.shape"
      ]
    },
    {
      "cell_type": "code",
      "execution_count": null,
      "metadata": {
        "id": "4OI82ZgUA8Vs"
      },
      "outputs": [],
      "source": [
        "data.reset_index(drop=True,inplace=True)"
      ]
    },
    {
      "cell_type": "code",
      "execution_count": null,
      "metadata": {
        "colab": {
          "base_uri": "https://localhost:8080/"
        },
        "id": "ZRepBYnNA-_m",
        "outputId": "893a9cfa-c502-492a-8da4-20bc0beef5b6"
      },
      "outputs": [
        {
          "data": {
            "text/plain": [
              "(11806, 5383)"
            ]
          },
          "execution_count": 124,
          "metadata": {},
          "output_type": "execute_result"
        }
      ],
      "source": [
        "tf = TfidfVectorizer(ngram_range=(1,2), stop_words='english')\n",
        "tf_matrix = tf.fit_transform(data['describe'])\n",
        "tf_matrix.shape"
      ]
    },
    {
      "cell_type": "code",
      "execution_count": null,
      "metadata": {
        "colab": {
          "base_uri": "https://localhost:8080/"
        },
        "id": "Ad9elYBPBBGa",
        "outputId": "96e4df83-2caf-4245-c79b-0de5f9c71628"
      },
      "outputs": [
        {
          "data": {
            "text/plain": [
              "(11806, 11806)"
            ]
          },
          "execution_count": 125,
          "metadata": {},
          "output_type": "execute_result"
        }
      ],
      "source": [
        "simil = linear_kernel(tf_matrix, tf_matrix)\n",
        "simil.shape"
      ]
    },
    {
      "cell_type": "code",
      "execution_count": null,
      "metadata": {
        "id": "x7L6sqGxBDU9"
      },
      "outputs": [],
      "source": [
        "id=data['anime_id'].values\n",
        "simil = pd.DataFrame(simil, index=id, columns=id)\n",
        "simil.columns = data['name']\n",
        "simil['anime_name'] = data['name'].values"
      ]
    },
    {
      "cell_type": "code",
      "execution_count": null,
      "metadata": {
        "id": "8uwJqPxHBHCO"
      },
      "outputs": [],
      "source": [
        "simil.head()"
      ]
    },
    {
      "cell_type": "code",
      "execution_count": null,
      "metadata": {
        "id": "x6EHx-mOBJ2h"
      },
      "outputs": [],
      "source": [
        "if([simil.anime_name.value_counts()>1]==True):\n",
        "    print('There are duplicates rows')\n",
        "else:\n",
        "    print('There are no duplicate rows')"
      ]
    },
    {
      "cell_type": "code",
      "execution_count": null,
      "metadata": {
        "id": "cz-dbarNBMb_"
      },
      "outputs": [],
      "source": [
        "# user defined function to recommend animes based on genre and type\n",
        "def content_rec(name):\n",
        "    idx = simil[simil['anime_name']==name]\n",
        "    idx = idx.drop('anime_name', axis=1).T\n",
        "    idx.columns = ['similar_val']\n",
        "    idx = idx.sort_values(by='similar_val', ascending=False)\n",
        "    return idx"
      ]
    },
    {
      "cell_type": "code",
      "execution_count": null,
      "metadata": {
        "id": "ZYo7r3tZBOln"
      },
      "outputs": [],
      "source": [
        "content_rec('Kimi no Na wa').head(10)"
      ]
    },
    {
      "cell_type": "markdown",
      "source": [
        "The above output recommend the similar animes which is almost same genre and type."
      ],
      "metadata": {
        "id": "8nJb29eQvaNa"
      }
    },
    {
      "cell_type": "markdown",
      "metadata": {
        "id": "cyJ7QbbBCNtV"
      },
      "source": [
        "###*Collaberative filtering Recommendation System*"
      ]
    },
    {
      "cell_type": "code",
      "execution_count": null,
      "metadata": {
        "id": "TkdrER-3Ck1c"
      },
      "outputs": [],
      "source": [
        "anime_rating.shape"
      ]
    },
    {
      "cell_type": "code",
      "execution_count": null,
      "metadata": {
        "id": "EMbxvcYvCg1b"
      },
      "outputs": [],
      "source": [
        "anime_rating.duplicated(subset=['user_id','name']).sum()"
      ]
    },
    {
      "cell_type": "code",
      "execution_count": null,
      "metadata": {
        "id": "9DI5rnGrCgMu"
      },
      "outputs": [],
      "source": [
        "anime_rating1=anime_rating.copy()\n",
        "anime_rating1.drop_duplicates(subset=['user_id','name'],inplace=True)"
      ]
    },
    {
      "cell_type": "code",
      "execution_count": null,
      "metadata": {
        "id": "kCuk1oPsCcrA"
      },
      "outputs": [],
      "source": [
        "anime_rating1.reset_index(drop=True,inplace=True)"
      ]
    },
    {
      "cell_type": "code",
      "execution_count": null,
      "metadata": {
        "id": "jnq9JXwNCxla"
      },
      "outputs": [],
      "source": [
        "counts = anime_rating1['user_id'].value_counts()\n",
        "anime_feature = anime_rating1[anime_rating1['user_id'].isin(counts[counts >= 500].index)]"
      ]
    },
    {
      "cell_type": "code",
      "execution_count": null,
      "metadata": {
        "id": "MZbxKtaOC7mE"
      },
      "outputs": [],
      "source": [
        "anime_feature.shape"
      ]
    },
    {
      "cell_type": "code",
      "execution_count": null,
      "metadata": {
        "id": "uLkstM_lC-Jk"
      },
      "outputs": [],
      "source": [
        "# user-item matrix\n",
        "anime_rating_pivot = anime_feature.pivot(index='name', columns='user_id', values='user_rating')\n",
        "anime_rating_pivot = anime_rating_pivot.fillna(0)\n",
        "anime_rating_pivot.head()"
      ]
    },
    {
      "cell_type": "code",
      "execution_count": null,
      "metadata": {
        "id": "7B5beTGrDAdi"
      },
      "outputs": [],
      "source": [
        "anime_rating_pivot.shape"
      ]
    },
    {
      "cell_type": "markdown",
      "metadata": {
        "id": "iHTKEbGjDDVD"
      },
      "source": [
        "###*Memory based Recommendation System (Similar anime)*"
      ]
    },
    {
      "cell_type": "markdown",
      "metadata": {
        "id": "2uhdsRrGDb73"
      },
      "source": [
        "####Using KNN"
      ]
    },
    {
      "cell_type": "code",
      "execution_count": null,
      "metadata": {
        "colab": {
          "base_uri": "https://localhost:8080/"
        },
        "id": "LuK9grA0DPYF",
        "outputId": "29ff5692-6212-460b-f8ae-32199517f184"
      },
      "outputs": [
        {
          "data": {
            "text/plain": [
              "NearestNeighbors(metric='cosine')"
            ]
          },
          "execution_count": 139,
          "metadata": {},
          "output_type": "execute_result"
        }
      ],
      "source": [
        "model_knn = NearestNeighbors(metric='cosine')\n",
        "model_knn.fit(anime_rating_pivot)"
      ]
    },
    {
      "cell_type": "code",
      "execution_count": null,
      "metadata": {
        "colab": {
          "background_save": true
        },
        "id": "TaNE_qR4DtS1"
      },
      "outputs": [],
      "source": [
        "distances, indices = model_knn.kneighbors(anime_rating_pivot, n_neighbors=6)"
      ]
    },
    {
      "cell_type": "code",
      "execution_count": null,
      "metadata": {
        "id": "6hQ_UMzkDvi4"
      },
      "outputs": [],
      "source": [
        "recommend = pd.DataFrame(indices, columns=['anime0', 'anime1', 'anime2', 'anime3', 'anime4', 'anime5'])\n",
        "recommend.head()"
      ]
    },
    {
      "cell_type": "code",
      "execution_count": null,
      "metadata": {
        "id": "sYU0dWutDynu"
      },
      "outputs": [],
      "source": [
        "recommend2 = recommend.copy()\n",
        "for i in range(0, 6):\n",
        "    animes = pd.DataFrame(anime_rating_pivot.index).reset_index()\n",
        "    animes = animes.rename(columns={'index':f'anime{i}'})\n",
        "    recommend2 = pd.merge(recommend2, animes, on=[f'anime{i}'], how='left')\n",
        "    recommend2 = recommend2.drop(f'anime{i}', axis=1)\n",
        "    recommend2 = recommend2.rename(columns={'name':f'anime{i}'})"
      ]
    },
    {
      "cell_type": "code",
      "execution_count": null,
      "metadata": {
        "id": "4aQTbg-TD1Hh"
      },
      "outputs": [],
      "source": [
        "recommend2.head(10)"
      ]
    },
    {
      "cell_type": "markdown",
      "source": [
        "The above table shows the 5 similar animes for each anime."
      ],
      "metadata": {
        "id": "Uq80NOkgvkJX"
      }
    },
    {
      "cell_type": "markdown",
      "metadata": {
        "id": "bLoZMLZjD4Ug"
      },
      "source": [
        "####Using SVD"
      ]
    },
    {
      "cell_type": "code",
      "execution_count": null,
      "metadata": {
        "colab": {
          "background_save": true,
          "base_uri": "https://localhost:8080/"
        },
        "id": "I4cw-DItD6kO",
        "outputId": "f75f6a68-53d8-440e-80dd-3f1059e4b563"
      },
      "outputs": [
        {
          "data": {
            "text/plain": [
              "(4579, 47)"
            ]
          },
          "execution_count": 155,
          "metadata": {},
          "output_type": "execute_result"
        }
      ],
      "source": [
        "anime_rating_pivot.shape"
      ]
    },
    {
      "cell_type": "code",
      "execution_count": null,
      "metadata": {
        "colab": {
          "background_save": true
        },
        "id": "BYCd9GSJD-KE"
      },
      "outputs": [],
      "source": [
        "#initially I will consider 1300 components\n",
        "svd = TruncatedSVD(random_state=4, n_components=1300)\n",
        "svd.fit(anime_rating_pivot)"
      ]
    },
    {
      "cell_type": "code",
      "execution_count": null,
      "metadata": {
        "id": "yeCJbqiUECKS"
      },
      "outputs": [],
      "source": [
        "#visualizing svd components with cumulative scree plot \n",
        "plt.plot(np.cumsum(svd.explained_variance_ratio_))\n",
        "plt.show()"
      ]
    },
    {
      "cell_type": "markdown",
      "source": [
        "From the above graph I can see that the svd component `1000` it's variance is almost `1`."
      ],
      "metadata": {
        "id": "ylu0h1HevpNG"
      }
    },
    {
      "cell_type": "code",
      "execution_count": null,
      "metadata": {
        "id": "1X6AK9SwEFOg"
      },
      "outputs": [],
      "source": [
        "# Now I will consider only 1000 components\n",
        "svd = TruncatedSVD(random_state=4, n_components=1000)\n",
        "svd.fit(anime_rating_pivot)"
      ]
    },
    {
      "cell_type": "code",
      "execution_count": null,
      "metadata": {
        "id": "Q5K1hZ0LEHrW"
      },
      "outputs": [],
      "source": [
        "anime_rating_svd = svd.fit_transform(anime_rating_pivot)"
      ]
    },
    {
      "cell_type": "code",
      "execution_count": null,
      "metadata": {
        "id": "53Z3b8P1EKPO"
      },
      "outputs": [],
      "source": [
        "anime_rating_svd.shape"
      ]
    },
    {
      "cell_type": "code",
      "execution_count": null,
      "metadata": {
        "id": "pz7KA5MdENEr"
      },
      "outputs": [],
      "source": [
        "corr = np.corrcoef(anime_rating_svd)\n",
        "corr.shape"
      ]
    },
    {
      "cell_type": "code",
      "execution_count": null,
      "metadata": {
        "id": "ka02DFwOERdl"
      },
      "outputs": [],
      "source": [
        "corr"
      ]
    },
    {
      "cell_type": "code",
      "execution_count": null,
      "metadata": {
        "id": "a-uHbpxbEVuO"
      },
      "outputs": [],
      "source": [
        "anime_title = anime_rating_pivot.index\n",
        "anime_list = list(anime_title)\n",
        "\n",
        "anime_Vampire_Knight = anime_list.index('Vampire Knight')\n",
        "anime_Vampire_Knight"
      ]
    },
    {
      "cell_type": "code",
      "execution_count": null,
      "metadata": {
        "id": "6h3b_rLTEYd-"
      },
      "outputs": [],
      "source": [
        "corr_anime_Vampire_Knight = corr[anime_Vampire_Knight]"
      ]
    },
    {
      "cell_type": "code",
      "execution_count": null,
      "metadata": {
        "id": "-cS2nrKaEaw8"
      },
      "outputs": [],
      "source": [
        "anime_title[(corr_anime_Vampire_Knight)>0.65]"
      ]
    },
    {
      "cell_type": "markdown",
      "metadata": {
        "id": "In0L0CiG8_1o"
      },
      "source": [
        "###*Model based Recommendation System(Surprise)*"
      ]
    },
    {
      "cell_type": "code",
      "execution_count": null,
      "metadata": {
        "id": "8HTsaamK9HfT"
      },
      "outputs": [],
      "source": [
        "anime_rating_data.head()"
      ]
    },
    {
      "cell_type": "code",
      "execution_count": null,
      "metadata": {
        "id": "dlYxoGUj9qqj"
      },
      "outputs": [],
      "source": [
        "counts = anime_rating_data['user_id'].value_counts()\n",
        "# considering only users who have watched more than 1500 animes\n",
        "anime_feature1 = anime_rating_data[anime_rating_data['user_id'].isin(counts[counts >= 1500].index)]"
      ]
    },
    {
      "cell_type": "code",
      "execution_count": null,
      "metadata": {
        "id": "NDbfxhbH9zwZ"
      },
      "outputs": [],
      "source": [
        "anime_feature1.shape"
      ]
    },
    {
      "cell_type": "code",
      "execution_count": null,
      "metadata": {
        "id": "YelcDKj091MK"
      },
      "outputs": [],
      "source": [
        "anime_feature1.user_rating.value_counts()\n"
      ]
    },
    {
      "cell_type": "code",
      "execution_count": null,
      "metadata": {
        "id": "PKk_D_BX99v2"
      },
      "outputs": [],
      "source": [
        "reader = Reader(rating_scale=(1.0,10.0))\n",
        "data1 = Dataset.load_from_df(anime_feature[['user_id', 'name', 'user_rating']], reader)"
      ]
    },
    {
      "cell_type": "code",
      "execution_count": null,
      "metadata": {
        "id": "G9BqflJI-Bgt"
      },
      "outputs": [],
      "source": [
        "svd = SVD()\n",
        "cross_validate(svd, data1, measures=['rmse'], cv=3, return_train_measures=True)"
      ]
    },
    {
      "cell_type": "code",
      "execution_count": null,
      "metadata": {
        "id": "uQDESNMp-FBg"
      },
      "outputs": [],
      "source": [
        "trainset = data1.build_full_trainset()\n",
        "svd.fit(trainset)"
      ]
    },
    {
      "cell_type": "code",
      "execution_count": null,
      "metadata": {
        "id": "9_P9mGcm-InL"
      },
      "outputs": [],
      "source": [
        "items = anime_feature['name'].unique()\n",
        "test = [[13954.0, iid, 8] for iid in items]\n",
        "predictions = svd.test(test)\n",
        "pred = pd.DataFrame(predictions)"
      ]
    },
    {
      "cell_type": "code",
      "execution_count": null,
      "metadata": {
        "id": "EDt6m7Bu-NVk"
      },
      "outputs": [],
      "source": [
        "pred.sort_values(by='est', ascending=False).head(10)"
      ]
    },
    {
      "cell_type": "markdown",
      "source": [
        "The above output are the predicted rating that a user may give for the respective animes. "
      ],
      "metadata": {
        "id": "oBARfaf8v2Eq"
      }
    },
    {
      "cell_type": "markdown",
      "metadata": {
        "id": "dmBAgbGTEjBN"
      },
      "source": [
        "###*Hybrid Recommendation System*"
      ]
    },
    {
      "cell_type": "code",
      "execution_count": null,
      "metadata": {
        "id": "S98c3ft7En1m"
      },
      "outputs": [],
      "source": [
        "md2 = anime[['anime_id', 'name']]"
      ]
    },
    {
      "cell_type": "code",
      "execution_count": null,
      "metadata": {
        "id": "W7aXpLGdEx9f"
      },
      "outputs": [],
      "source": [
        "simil.head(2)"
      ]
    },
    {
      "cell_type": "code",
      "execution_count": null,
      "metadata": {
        "id": "LDqzMnwiE42T"
      },
      "outputs": [],
      "source": [
        "# pre defined function to predict the user rating of similar animes where I pass the anime name along with the user id as parameters\n",
        "def hybrid_rec(ttl, userid):\n",
        "    idx = simil[simil['anime_name']==ttl]\n",
        "    idx = idx.drop('anime_name', axis=1).T\n",
        "    idx.columns = ['values']\n",
        "    idx['id'] = simil.index\n",
        "    # considering only top 25 similar animes\n",
        "    idx = idx.sort_values(by='values', ascending=False).head(25)\n",
        "    items = idx['id'].unique()\n",
        "    test = [[userid, iid, 8] for iid in items]\n",
        "    predictions = svd.test(test)\n",
        "    pred = pd.DataFrame(predictions)\n",
        "    pred = pred.merge(md2, left_on='iid', right_on='anime_id')\n",
        "    pred = pred.sort_values(by='est', ascending=False)\n",
        "    return pred"
      ]
    },
    {
      "cell_type": "code",
      "execution_count": null,
      "metadata": {
        "id": "ttOxaphxFAhj"
      },
      "outputs": [],
      "source": [
        "hybrid_rec('Death Note',13954.0)"
      ]
    },
    {
      "cell_type": "markdown",
      "source": [
        "This are top 25 animes similar to the `Death Note` and the estimated rating that the user `13954` will allocate."
      ],
      "metadata": {
        "id": "7qvOU4kov7EC"
      }
    },
    {
      "cell_type": "markdown",
      "metadata": {
        "id": "U-4emyjW-1eL"
      },
      "source": [
        "###*Association analysis*"
      ]
    },
    {
      "cell_type": "code",
      "execution_count": null,
      "metadata": {
        "id": "KNztXoGt-vFq"
      },
      "outputs": [],
      "source": [
        "anime.head()"
      ]
    },
    {
      "cell_type": "code",
      "execution_count": null,
      "metadata": {
        "id": "ei8o4jBD-_nB"
      },
      "outputs": [],
      "source": [
        "rating.head()"
      ]
    },
    {
      "cell_type": "markdown",
      "metadata": {
        "id": "8-em0BY5_DPJ"
      },
      "source": [
        "####By Type"
      ]
    },
    {
      "cell_type": "code",
      "execution_count": null,
      "metadata": {
        "id": "pWA4yNOu_FT5"
      },
      "outputs": [],
      "source": [
        "def get_ar_type(type):\n",
        "    type_ul=[]\n",
        "    grouped = rating.groupby(\"user_id\")\n",
        "    set_type = set(anime[anime[\"type\"] == type][\"anime_id\"].values)\n",
        "    print(type+' :',len(set_type))\n",
        "    \n",
        "    \n",
        "    for i in rating['user_id'].unique():\n",
        "        g = grouped.get_group(i)\n",
        "        r = g[g['rating']>=6]\n",
        "        set_trans = set(r['anime_id'].values)\n",
        "        anime_type = list(set_type.intersection(set_trans)) \n",
        "        if len(anime_type)>1:\n",
        "            type_ul.append(anime_type)\n",
        "            \n",
        "            \n",
        "    association_rules = apriori(type_ul, min_support=0.15, min_confidence=0.4,min_lift=1)\n",
        "    association_results = list(association_rules)\n",
        "    \n",
        "    \n",
        "    Result=pd.DataFrame(columns=['Antecedents','Consequents','Support','Confidence','Lift'])\n",
        "    for item in association_results:\n",
        "        pair = item[2]\n",
        "        for i in pair:\n",
        "            items = str([x for x in i[0]])\n",
        "            if i[3]!=1:\n",
        "                Result=Result.append({'Antecedents':str([anime[anime['anime_id']==x].reset_index().loc[0,'name'] for x in i[0]]),'Consequents':str([anime[anime['anime_id']==x].reset_index().loc[0,'name'] for x in i[1]]),'Support':item[1],'Confidence':i[2],'Lift':i[3]},ignore_index=True)\n",
        "    Result_ar=Result.sort_values(by='Lift',ascending=False)\n",
        "    Result_ar=Result_ar.reset_index(drop=True)\n",
        "    return Result_ar\n"
      ]
    },
    {
      "cell_type": "code",
      "execution_count": null,
      "metadata": {
        "id": "2AkP32ER_OZ-"
      },
      "outputs": [],
      "source": [
        "get_ar_type('Movie').head(10)"
      ]
    },
    {
      "cell_type": "markdown",
      "source": [
        "As for Rule 0 : If a user has Watched and liked `Howl no Ugoku Shiro` and `Sen to Chihiro no Kamikakushi` there is `57%` confidence with `0.15` support he/she will like `Tonari no Totoro`<br>\n",
        "As for Rule 7 : If a user has Watched and liked `Mononoke Hime` there is `59%` confidence with `0.18` support he/she will like `Sen to Chihiro no Kamikakushi`and `Howl no Ugoku Shiro`"
      ],
      "metadata": {
        "id": "89MRHTxHwEZP"
      }
    },
    {
      "cell_type": "code",
      "execution_count": null,
      "metadata": {
        "id": "sJmT26r3_Uy0"
      },
      "outputs": [],
      "source": [
        "Result_tv=get_ar_type('TV')"
      ]
    },
    {
      "cell_type": "code",
      "execution_count": null,
      "metadata": {
        "id": "-ckr3zTB_XzN"
      },
      "outputs": [],
      "source": [
        "def find_anime_ar(name,result):\n",
        "    temp=result.copy()\n",
        "    temp['Antecedents']=temp['Antecedents'].apply(lambda x:x if name in x else 'different')\n",
        "    temp=temp[temp['Antecedents']!='different']\n",
        "    temp=temp.reset_index(drop=True)\n",
        "    return temp "
      ]
    },
    {
      "cell_type": "code",
      "execution_count": null,
      "metadata": {
        "id": "AFlMp9Ek_bVV"
      },
      "outputs": [],
      "source": [
        "find_anime_ar('Death Note',Result_tv).head(10)"
      ]
    },
    {
      "cell_type": "markdown",
      "source": [
        "As for Rule 0 : If a user has Watched and liked `Code Geass 1st season` and `Death Note` there is `87.7%` confidence with `0.235` support he/she will like `Code Geass 2nd season`<br>\n",
        "As for Rule 5 : If a user has Watched and liked `Shingeki no Kyojin` and `Death Note` there is `68%` confidence with `0.17` support he/she will like `Sword Art Online`"
      ],
      "metadata": {
        "id": "P-fwmaiawLyI"
      }
    },
    {
      "cell_type": "markdown",
      "metadata": {
        "id": "uFM6TfXK_f3f"
      },
      "source": [
        "####By Genre "
      ]
    },
    {
      "cell_type": "code",
      "execution_count": null,
      "metadata": {
        "id": "-HGt-Ir2_kUd"
      },
      "outputs": [],
      "source": [
        "anime.reset_index(drop=True,inplace=True)"
      ]
    },
    {
      "cell_type": "code",
      "execution_count": null,
      "metadata": {
        "id": "au2iI3fJ_uBP"
      },
      "outputs": [],
      "source": [
        "def get_ar_genre(genre):\n",
        "    genre_ul=[]\n",
        "    set_genre=set()\n",
        "    for i in range(len(anime)):\n",
        "        str_genre = anime.loc[i, 'genre']\n",
        "        if pd.isnull(str_genre):\n",
        "            continue\n",
        "        A = str_genre.strip().split(\", \")\n",
        "        for j in A:\n",
        "            if j==genre:\n",
        "                set_genre.add(anime.loc[i,\"anime_id\"])\n",
        "    \n",
        "    \n",
        "    grouped = rating.groupby(\"user_id\")\n",
        "    print(genre+' :',len(set_genre))\n",
        "    \n",
        "    for i in rating['user_id'].unique():\n",
        "        g = grouped.get_group(i)\n",
        "        r = g[g['rating']>=6]\n",
        "        set_trans = set(r['anime_id'].values)\n",
        "        anime_genre = list(set_genre.intersection(set_trans)) \n",
        "        if len(anime_genre)>1:\n",
        "            genre_ul.append(anime_genre)\n",
        "            \n",
        "            \n",
        "    association_rules = apriori(genre_ul, min_support=0.15, min_confidence=0.5,min_lift=1)\n",
        "    association_results = list(association_rules)\n",
        "    \n",
        "    \n",
        "    Result=pd.DataFrame(columns=['Antecedents','Consequents','Support','Confidence','Lift'])\n",
        "    for item in association_results:\n",
        "        pair = item[2]\n",
        "        for i in pair:\n",
        "            items = str([x for x in i[0]])\n",
        "            if i[3]!=1:\n",
        "                Result=Result.append({'Antecedents':str([anime[anime['anime_id']==x].reset_index().loc[0,'name'] for x in i[0]]),'Consequents':str([anime[anime['anime_id']==x].reset_index().loc[0,'name'] for x in i[1]]),'Support':item[1],'Confidence':i[2],'Lift':i[3]},ignore_index=True)\n",
        "    Result_ar=Result.sort_values(by='Lift',ascending=False)\n",
        "    Result_ar=Result_ar.reset_index(drop=True)\n",
        "    return Result_ar"
      ]
    },
    {
      "cell_type": "code",
      "execution_count": null,
      "metadata": {
        "id": "SzFT29U8_wjN"
      },
      "outputs": [],
      "source": [
        "get_ar_genre('Comedy').head(10)"
      ]
    },
    {
      "cell_type": "markdown",
      "source": [
        "As for Rule 0 : If a user has Watched and liked `Clannad` there is `61%` confidence with `0.18` support he/she will like `Toradora`<br>\n",
        "As for Rule 2 : If a user has Watched and liked `No Game No Life` there is `65%` confidence with `0.16` support he/she will like `Angel Beats`"
      ],
      "metadata": {
        "id": "Ar55eflswUoc"
      }
    },
    {
      "cell_type": "code",
      "execution_count": null,
      "metadata": {
        "id": "yJ_Z-VuX_0bi"
      },
      "outputs": [],
      "source": [
        "result_action=get_ar_genre('Action')"
      ]
    },
    {
      "cell_type": "code",
      "execution_count": null,
      "metadata": {
        "id": "rH6vlswa_3dV"
      },
      "outputs": [],
      "source": [
        "result_action.head()"
      ]
    },
    {
      "cell_type": "code",
      "execution_count": null,
      "metadata": {
        "id": "WJ8So2O9_6__"
      },
      "outputs": [],
      "source": [
        "find_anime_ar('Fullmetal Alchemist',result_action).head(10)"
      ]
    },
    {
      "cell_type": "markdown",
      "source": [
        "As for Rule 4 : If a user has Watched and liked `Fullmetal Alchemist` there is `59%` confidence with `0.2` support he/she will like `Fullmetal Alchemist  Brotherhood`<br>\n",
        "As for Rule 9 : If a user has Watched and liked `Fullmetal Alchemist Brotherhood` there is `60%` confidence with `0.21` support he/she will like `Shingeki no Kyojin`"
      ],
      "metadata": {
        "id": "U0CwdTNwwak4"
      }
    },
    {
      "cell_type": "markdown",
      "source": [
        "#**Conclusion**"
      ],
      "metadata": {
        "id": "AeMTMiZrwc-S"
      }
    },
    {
      "cell_type": "markdown",
      "source": [
        "- Recommender systems open new opportunities of retrieving personalized information on the Ib.I have built various       recommender models each one performs Ill under circumstances.\n",
        "\n",
        "- For a new user popularity based and content based recommender works Ill later based on user activities collaborative based and association recommenders performs better.\n",
        "\n",
        "- A  better  anime  recommendation  system is when I consider user  watch  history.So collaborative based filtering (model-based) recommendation model would be best for recommend animes to the users."
      ],
      "metadata": {
        "id": "lmI3JPMuwp5A"
      }
    },
    {
      "cell_type": "markdown",
      "source": [
        "#**Reference**"
      ],
      "metadata": {
        "id": "kqNAoQgJwuaB"
      }
    },
    {
      "cell_type": "markdown",
      "source": [
        "https://www.researchgate.net/publication/342690182_Collaborative_Recommendation_System_in_Users_of_Anime_Films\n",
        "\n",
        "https://iopscience.iop.org/article/10.1088/1742-6596/1566/1/012057/pdf\n",
        "\n",
        "https://towardsdatascience.com/building-a-recommendation-system-for-anime-566f864acea8\n",
        "\n",
        "https://arxiv.org/pdf/1709.01584.pdf\n",
        "\n",
        "https://medium.com/analytics-vidhya/anime-recommendation-engine-content-collaborative-filtering-c6e69be29d29"
      ],
      "metadata": {
        "id": "3XJ7jXrZw1WK"
      }
    }
  ],
  "metadata": {
    "colab": {
      "collapsed_sections": [],
      "provenance": [],
      "toc_visible": true
    },
    "kernelspec": {
      "display_name": "Python 3",
      "name": "python3"
    },
    "language_info": {
      "name": "python"
    }
  },
  "nbformat": 4,
  "nbformat_minor": 0
}